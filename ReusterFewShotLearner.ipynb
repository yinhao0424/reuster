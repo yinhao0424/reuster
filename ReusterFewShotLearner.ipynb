{
  "nbformat": 4,
  "nbformat_minor": 0,
  "metadata": {
    "colab": {
      "name": "ReusterFewShotLearner.ipynb",
      "provenance": [],
      "collapsed_sections": [],
      "mount_file_id": "1V6pvVcsoLQJKkS5V4InbEKWRQDh9xX7J",
      "authorship_tag": "ABX9TyPaMQEztJQZjA9gTDiwQVxo",
      "include_colab_link": true
    },
    "kernelspec": {
      "name": "python3",
      "display_name": "Python 3"
    },
    "widgets": {
      "application/vnd.jupyter.widget-state+json": {
        "8da8f77ac16e4094af9b7911d740f6cc": {
          "model_module": "@jupyter-widgets/controls",
          "model_name": "HBoxModel",
          "state": {
            "_view_name": "HBoxView",
            "_dom_classes": [],
            "_model_name": "HBoxModel",
            "_view_module": "@jupyter-widgets/controls",
            "_model_module_version": "1.5.0",
            "_view_count": null,
            "_view_module_version": "1.5.0",
            "box_style": "",
            "layout": "IPY_MODEL_17993655ca0d44f98b10861df0a3af96",
            "_model_module": "@jupyter-widgets/controls",
            "children": [
              "IPY_MODEL_42c2112e1f8d46bdbe3b6cdeebaa5872",
              "IPY_MODEL_115d27b42164420c81ddead7fc571f43"
            ]
          }
        },
        "17993655ca0d44f98b10861df0a3af96": {
          "model_module": "@jupyter-widgets/base",
          "model_name": "LayoutModel",
          "state": {
            "_view_name": "LayoutView",
            "grid_template_rows": null,
            "right": null,
            "justify_content": null,
            "_view_module": "@jupyter-widgets/base",
            "overflow": null,
            "_model_module_version": "1.2.0",
            "_view_count": null,
            "flex_flow": null,
            "width": null,
            "min_width": null,
            "border": null,
            "align_items": null,
            "bottom": null,
            "_model_module": "@jupyter-widgets/base",
            "top": null,
            "grid_column": null,
            "overflow_y": null,
            "overflow_x": null,
            "grid_auto_flow": null,
            "grid_area": null,
            "grid_template_columns": null,
            "flex": null,
            "_model_name": "LayoutModel",
            "justify_items": null,
            "grid_row": null,
            "max_height": null,
            "align_content": null,
            "visibility": null,
            "align_self": null,
            "height": null,
            "min_height": null,
            "padding": null,
            "grid_auto_rows": null,
            "grid_gap": null,
            "max_width": null,
            "order": null,
            "_view_module_version": "1.2.0",
            "grid_template_areas": null,
            "object_position": null,
            "object_fit": null,
            "grid_auto_columns": null,
            "margin": null,
            "display": null,
            "left": null
          }
        },
        "42c2112e1f8d46bdbe3b6cdeebaa5872": {
          "model_module": "@jupyter-widgets/controls",
          "model_name": "FloatProgressModel",
          "state": {
            "_view_name": "ProgressView",
            "style": "IPY_MODEL_4717e2459d6c4792a6665a207bfa8e52",
            "_dom_classes": [],
            "description": "Downloading: 100%",
            "_model_name": "FloatProgressModel",
            "bar_style": "success",
            "max": 231508,
            "_view_module": "@jupyter-widgets/controls",
            "_model_module_version": "1.5.0",
            "value": 231508,
            "_view_count": null,
            "_view_module_version": "1.5.0",
            "orientation": "horizontal",
            "min": 0,
            "description_tooltip": null,
            "_model_module": "@jupyter-widgets/controls",
            "layout": "IPY_MODEL_bbd68d48e3f04ec39796613c8ce4b2a6"
          }
        },
        "115d27b42164420c81ddead7fc571f43": {
          "model_module": "@jupyter-widgets/controls",
          "model_name": "HTMLModel",
          "state": {
            "_view_name": "HTMLView",
            "style": "IPY_MODEL_37aa23ec11cf4fbebd99a80ed83f8f83",
            "_dom_classes": [],
            "description": "",
            "_model_name": "HTMLModel",
            "placeholder": "​",
            "_view_module": "@jupyter-widgets/controls",
            "_model_module_version": "1.5.0",
            "value": " 232k/232k [00:00&lt;00:00, 2.19MB/s]",
            "_view_count": null,
            "_view_module_version": "1.5.0",
            "description_tooltip": null,
            "_model_module": "@jupyter-widgets/controls",
            "layout": "IPY_MODEL_833dd4bd2874465283e5575995813b81"
          }
        },
        "4717e2459d6c4792a6665a207bfa8e52": {
          "model_module": "@jupyter-widgets/controls",
          "model_name": "ProgressStyleModel",
          "state": {
            "_view_name": "StyleView",
            "_model_name": "ProgressStyleModel",
            "description_width": "initial",
            "_view_module": "@jupyter-widgets/base",
            "_model_module_version": "1.5.0",
            "_view_count": null,
            "_view_module_version": "1.2.0",
            "bar_color": null,
            "_model_module": "@jupyter-widgets/controls"
          }
        },
        "bbd68d48e3f04ec39796613c8ce4b2a6": {
          "model_module": "@jupyter-widgets/base",
          "model_name": "LayoutModel",
          "state": {
            "_view_name": "LayoutView",
            "grid_template_rows": null,
            "right": null,
            "justify_content": null,
            "_view_module": "@jupyter-widgets/base",
            "overflow": null,
            "_model_module_version": "1.2.0",
            "_view_count": null,
            "flex_flow": null,
            "width": null,
            "min_width": null,
            "border": null,
            "align_items": null,
            "bottom": null,
            "_model_module": "@jupyter-widgets/base",
            "top": null,
            "grid_column": null,
            "overflow_y": null,
            "overflow_x": null,
            "grid_auto_flow": null,
            "grid_area": null,
            "grid_template_columns": null,
            "flex": null,
            "_model_name": "LayoutModel",
            "justify_items": null,
            "grid_row": null,
            "max_height": null,
            "align_content": null,
            "visibility": null,
            "align_self": null,
            "height": null,
            "min_height": null,
            "padding": null,
            "grid_auto_rows": null,
            "grid_gap": null,
            "max_width": null,
            "order": null,
            "_view_module_version": "1.2.0",
            "grid_template_areas": null,
            "object_position": null,
            "object_fit": null,
            "grid_auto_columns": null,
            "margin": null,
            "display": null,
            "left": null
          }
        },
        "37aa23ec11cf4fbebd99a80ed83f8f83": {
          "model_module": "@jupyter-widgets/controls",
          "model_name": "DescriptionStyleModel",
          "state": {
            "_view_name": "StyleView",
            "_model_name": "DescriptionStyleModel",
            "description_width": "",
            "_view_module": "@jupyter-widgets/base",
            "_model_module_version": "1.5.0",
            "_view_count": null,
            "_view_module_version": "1.2.0",
            "_model_module": "@jupyter-widgets/controls"
          }
        },
        "833dd4bd2874465283e5575995813b81": {
          "model_module": "@jupyter-widgets/base",
          "model_name": "LayoutModel",
          "state": {
            "_view_name": "LayoutView",
            "grid_template_rows": null,
            "right": null,
            "justify_content": null,
            "_view_module": "@jupyter-widgets/base",
            "overflow": null,
            "_model_module_version": "1.2.0",
            "_view_count": null,
            "flex_flow": null,
            "width": null,
            "min_width": null,
            "border": null,
            "align_items": null,
            "bottom": null,
            "_model_module": "@jupyter-widgets/base",
            "top": null,
            "grid_column": null,
            "overflow_y": null,
            "overflow_x": null,
            "grid_auto_flow": null,
            "grid_area": null,
            "grid_template_columns": null,
            "flex": null,
            "_model_name": "LayoutModel",
            "justify_items": null,
            "grid_row": null,
            "max_height": null,
            "align_content": null,
            "visibility": null,
            "align_self": null,
            "height": null,
            "min_height": null,
            "padding": null,
            "grid_auto_rows": null,
            "grid_gap": null,
            "max_width": null,
            "order": null,
            "_view_module_version": "1.2.0",
            "grid_template_areas": null,
            "object_position": null,
            "object_fit": null,
            "grid_auto_columns": null,
            "margin": null,
            "display": null,
            "left": null
          }
        },
        "134c3963a48347a5b43529ac475bafa5": {
          "model_module": "@jupyter-widgets/controls",
          "model_name": "HBoxModel",
          "state": {
            "_view_name": "HBoxView",
            "_dom_classes": [],
            "_model_name": "HBoxModel",
            "_view_module": "@jupyter-widgets/controls",
            "_model_module_version": "1.5.0",
            "_view_count": null,
            "_view_module_version": "1.5.0",
            "box_style": "",
            "layout": "IPY_MODEL_33793878a1c141dcae2e4ae924c67ce0",
            "_model_module": "@jupyter-widgets/controls",
            "children": [
              "IPY_MODEL_4efb0f4ea6154a48b02f9b2efa5f9062",
              "IPY_MODEL_4c6e5f9977fa41e3a4ead8cb68163b19"
            ]
          }
        },
        "33793878a1c141dcae2e4ae924c67ce0": {
          "model_module": "@jupyter-widgets/base",
          "model_name": "LayoutModel",
          "state": {
            "_view_name": "LayoutView",
            "grid_template_rows": null,
            "right": null,
            "justify_content": null,
            "_view_module": "@jupyter-widgets/base",
            "overflow": null,
            "_model_module_version": "1.2.0",
            "_view_count": null,
            "flex_flow": null,
            "width": null,
            "min_width": null,
            "border": null,
            "align_items": null,
            "bottom": null,
            "_model_module": "@jupyter-widgets/base",
            "top": null,
            "grid_column": null,
            "overflow_y": null,
            "overflow_x": null,
            "grid_auto_flow": null,
            "grid_area": null,
            "grid_template_columns": null,
            "flex": null,
            "_model_name": "LayoutModel",
            "justify_items": null,
            "grid_row": null,
            "max_height": null,
            "align_content": null,
            "visibility": null,
            "align_self": null,
            "height": null,
            "min_height": null,
            "padding": null,
            "grid_auto_rows": null,
            "grid_gap": null,
            "max_width": null,
            "order": null,
            "_view_module_version": "1.2.0",
            "grid_template_areas": null,
            "object_position": null,
            "object_fit": null,
            "grid_auto_columns": null,
            "margin": null,
            "display": null,
            "left": null
          }
        },
        "4efb0f4ea6154a48b02f9b2efa5f9062": {
          "model_module": "@jupyter-widgets/controls",
          "model_name": "FloatProgressModel",
          "state": {
            "_view_name": "ProgressView",
            "style": "IPY_MODEL_01cd8ad34f6e4112a3da41a3d474228f",
            "_dom_classes": [],
            "description": "Downloading: 100%",
            "_model_name": "FloatProgressModel",
            "bar_style": "success",
            "max": 442,
            "_view_module": "@jupyter-widgets/controls",
            "_model_module_version": "1.5.0",
            "value": 442,
            "_view_count": null,
            "_view_module_version": "1.5.0",
            "orientation": "horizontal",
            "min": 0,
            "description_tooltip": null,
            "_model_module": "@jupyter-widgets/controls",
            "layout": "IPY_MODEL_8e1c113dce894d26ace365d0119f32d5"
          }
        },
        "4c6e5f9977fa41e3a4ead8cb68163b19": {
          "model_module": "@jupyter-widgets/controls",
          "model_name": "HTMLModel",
          "state": {
            "_view_name": "HTMLView",
            "style": "IPY_MODEL_343f779d55cb4d84aa2c1503dff8acde",
            "_dom_classes": [],
            "description": "",
            "_model_name": "HTMLModel",
            "placeholder": "​",
            "_view_module": "@jupyter-widgets/controls",
            "_model_module_version": "1.5.0",
            "value": " 442/442 [00:06&lt;00:00, 70.8B/s]",
            "_view_count": null,
            "_view_module_version": "1.5.0",
            "description_tooltip": null,
            "_model_module": "@jupyter-widgets/controls",
            "layout": "IPY_MODEL_7e7b3debc0154e879e9f124e7585c310"
          }
        },
        "01cd8ad34f6e4112a3da41a3d474228f": {
          "model_module": "@jupyter-widgets/controls",
          "model_name": "ProgressStyleModel",
          "state": {
            "_view_name": "StyleView",
            "_model_name": "ProgressStyleModel",
            "description_width": "initial",
            "_view_module": "@jupyter-widgets/base",
            "_model_module_version": "1.5.0",
            "_view_count": null,
            "_view_module_version": "1.2.0",
            "bar_color": null,
            "_model_module": "@jupyter-widgets/controls"
          }
        },
        "8e1c113dce894d26ace365d0119f32d5": {
          "model_module": "@jupyter-widgets/base",
          "model_name": "LayoutModel",
          "state": {
            "_view_name": "LayoutView",
            "grid_template_rows": null,
            "right": null,
            "justify_content": null,
            "_view_module": "@jupyter-widgets/base",
            "overflow": null,
            "_model_module_version": "1.2.0",
            "_view_count": null,
            "flex_flow": null,
            "width": null,
            "min_width": null,
            "border": null,
            "align_items": null,
            "bottom": null,
            "_model_module": "@jupyter-widgets/base",
            "top": null,
            "grid_column": null,
            "overflow_y": null,
            "overflow_x": null,
            "grid_auto_flow": null,
            "grid_area": null,
            "grid_template_columns": null,
            "flex": null,
            "_model_name": "LayoutModel",
            "justify_items": null,
            "grid_row": null,
            "max_height": null,
            "align_content": null,
            "visibility": null,
            "align_self": null,
            "height": null,
            "min_height": null,
            "padding": null,
            "grid_auto_rows": null,
            "grid_gap": null,
            "max_width": null,
            "order": null,
            "_view_module_version": "1.2.0",
            "grid_template_areas": null,
            "object_position": null,
            "object_fit": null,
            "grid_auto_columns": null,
            "margin": null,
            "display": null,
            "left": null
          }
        },
        "343f779d55cb4d84aa2c1503dff8acde": {
          "model_module": "@jupyter-widgets/controls",
          "model_name": "DescriptionStyleModel",
          "state": {
            "_view_name": "StyleView",
            "_model_name": "DescriptionStyleModel",
            "description_width": "",
            "_view_module": "@jupyter-widgets/base",
            "_model_module_version": "1.5.0",
            "_view_count": null,
            "_view_module_version": "1.2.0",
            "_model_module": "@jupyter-widgets/controls"
          }
        },
        "7e7b3debc0154e879e9f124e7585c310": {
          "model_module": "@jupyter-widgets/base",
          "model_name": "LayoutModel",
          "state": {
            "_view_name": "LayoutView",
            "grid_template_rows": null,
            "right": null,
            "justify_content": null,
            "_view_module": "@jupyter-widgets/base",
            "overflow": null,
            "_model_module_version": "1.2.0",
            "_view_count": null,
            "flex_flow": null,
            "width": null,
            "min_width": null,
            "border": null,
            "align_items": null,
            "bottom": null,
            "_model_module": "@jupyter-widgets/base",
            "top": null,
            "grid_column": null,
            "overflow_y": null,
            "overflow_x": null,
            "grid_auto_flow": null,
            "grid_area": null,
            "grid_template_columns": null,
            "flex": null,
            "_model_name": "LayoutModel",
            "justify_items": null,
            "grid_row": null,
            "max_height": null,
            "align_content": null,
            "visibility": null,
            "align_self": null,
            "height": null,
            "min_height": null,
            "padding": null,
            "grid_auto_rows": null,
            "grid_gap": null,
            "max_width": null,
            "order": null,
            "_view_module_version": "1.2.0",
            "grid_template_areas": null,
            "object_position": null,
            "object_fit": null,
            "grid_auto_columns": null,
            "margin": null,
            "display": null,
            "left": null
          }
        },
        "27f888152f8d470ba3fe0be206f13a62": {
          "model_module": "@jupyter-widgets/controls",
          "model_name": "HBoxModel",
          "state": {
            "_view_name": "HBoxView",
            "_dom_classes": [],
            "_model_name": "HBoxModel",
            "_view_module": "@jupyter-widgets/controls",
            "_model_module_version": "1.5.0",
            "_view_count": null,
            "_view_module_version": "1.5.0",
            "box_style": "",
            "layout": "IPY_MODEL_e9b7a7c6e0ad46a9b8320b5dccb5e284",
            "_model_module": "@jupyter-widgets/controls",
            "children": [
              "IPY_MODEL_f218e7ee937048329423e9986d19ad76",
              "IPY_MODEL_0d56facaab0d4377ad7f13fb2d2dfdf2"
            ]
          }
        },
        "e9b7a7c6e0ad46a9b8320b5dccb5e284": {
          "model_module": "@jupyter-widgets/base",
          "model_name": "LayoutModel",
          "state": {
            "_view_name": "LayoutView",
            "grid_template_rows": null,
            "right": null,
            "justify_content": null,
            "_view_module": "@jupyter-widgets/base",
            "overflow": null,
            "_model_module_version": "1.2.0",
            "_view_count": null,
            "flex_flow": null,
            "width": null,
            "min_width": null,
            "border": null,
            "align_items": null,
            "bottom": null,
            "_model_module": "@jupyter-widgets/base",
            "top": null,
            "grid_column": null,
            "overflow_y": null,
            "overflow_x": null,
            "grid_auto_flow": null,
            "grid_area": null,
            "grid_template_columns": null,
            "flex": null,
            "_model_name": "LayoutModel",
            "justify_items": null,
            "grid_row": null,
            "max_height": null,
            "align_content": null,
            "visibility": null,
            "align_self": null,
            "height": null,
            "min_height": null,
            "padding": null,
            "grid_auto_rows": null,
            "grid_gap": null,
            "max_width": null,
            "order": null,
            "_view_module_version": "1.2.0",
            "grid_template_areas": null,
            "object_position": null,
            "object_fit": null,
            "grid_auto_columns": null,
            "margin": null,
            "display": null,
            "left": null
          }
        },
        "f218e7ee937048329423e9986d19ad76": {
          "model_module": "@jupyter-widgets/controls",
          "model_name": "FloatProgressModel",
          "state": {
            "_view_name": "ProgressView",
            "style": "IPY_MODEL_078def1aef084ba79d473a8af2d6e361",
            "_dom_classes": [],
            "description": "Downloading: 100%",
            "_model_name": "FloatProgressModel",
            "bar_style": "success",
            "max": 267967963,
            "_view_module": "@jupyter-widgets/controls",
            "_model_module_version": "1.5.0",
            "value": 267967963,
            "_view_count": null,
            "_view_module_version": "1.5.0",
            "orientation": "horizontal",
            "min": 0,
            "description_tooltip": null,
            "_model_module": "@jupyter-widgets/controls",
            "layout": "IPY_MODEL_19295b6f279a46da8b3c123c9ec32a71"
          }
        },
        "0d56facaab0d4377ad7f13fb2d2dfdf2": {
          "model_module": "@jupyter-widgets/controls",
          "model_name": "HTMLModel",
          "state": {
            "_view_name": "HTMLView",
            "style": "IPY_MODEL_9a144192a6eb445c896244dfe087b051",
            "_dom_classes": [],
            "description": "",
            "_model_name": "HTMLModel",
            "placeholder": "​",
            "_view_module": "@jupyter-widgets/controls",
            "_model_module_version": "1.5.0",
            "value": " 268M/268M [00:04&lt;00:00, 57.0MB/s]",
            "_view_count": null,
            "_view_module_version": "1.5.0",
            "description_tooltip": null,
            "_model_module": "@jupyter-widgets/controls",
            "layout": "IPY_MODEL_2650c31dc87f4802b336d3fabff06a87"
          }
        },
        "078def1aef084ba79d473a8af2d6e361": {
          "model_module": "@jupyter-widgets/controls",
          "model_name": "ProgressStyleModel",
          "state": {
            "_view_name": "StyleView",
            "_model_name": "ProgressStyleModel",
            "description_width": "initial",
            "_view_module": "@jupyter-widgets/base",
            "_model_module_version": "1.5.0",
            "_view_count": null,
            "_view_module_version": "1.2.0",
            "bar_color": null,
            "_model_module": "@jupyter-widgets/controls"
          }
        },
        "19295b6f279a46da8b3c123c9ec32a71": {
          "model_module": "@jupyter-widgets/base",
          "model_name": "LayoutModel",
          "state": {
            "_view_name": "LayoutView",
            "grid_template_rows": null,
            "right": null,
            "justify_content": null,
            "_view_module": "@jupyter-widgets/base",
            "overflow": null,
            "_model_module_version": "1.2.0",
            "_view_count": null,
            "flex_flow": null,
            "width": null,
            "min_width": null,
            "border": null,
            "align_items": null,
            "bottom": null,
            "_model_module": "@jupyter-widgets/base",
            "top": null,
            "grid_column": null,
            "overflow_y": null,
            "overflow_x": null,
            "grid_auto_flow": null,
            "grid_area": null,
            "grid_template_columns": null,
            "flex": null,
            "_model_name": "LayoutModel",
            "justify_items": null,
            "grid_row": null,
            "max_height": null,
            "align_content": null,
            "visibility": null,
            "align_self": null,
            "height": null,
            "min_height": null,
            "padding": null,
            "grid_auto_rows": null,
            "grid_gap": null,
            "max_width": null,
            "order": null,
            "_view_module_version": "1.2.0",
            "grid_template_areas": null,
            "object_position": null,
            "object_fit": null,
            "grid_auto_columns": null,
            "margin": null,
            "display": null,
            "left": null
          }
        },
        "9a144192a6eb445c896244dfe087b051": {
          "model_module": "@jupyter-widgets/controls",
          "model_name": "DescriptionStyleModel",
          "state": {
            "_view_name": "StyleView",
            "_model_name": "DescriptionStyleModel",
            "description_width": "",
            "_view_module": "@jupyter-widgets/base",
            "_model_module_version": "1.5.0",
            "_view_count": null,
            "_view_module_version": "1.2.0",
            "_model_module": "@jupyter-widgets/controls"
          }
        },
        "2650c31dc87f4802b336d3fabff06a87": {
          "model_module": "@jupyter-widgets/base",
          "model_name": "LayoutModel",
          "state": {
            "_view_name": "LayoutView",
            "grid_template_rows": null,
            "right": null,
            "justify_content": null,
            "_view_module": "@jupyter-widgets/base",
            "overflow": null,
            "_model_module_version": "1.2.0",
            "_view_count": null,
            "flex_flow": null,
            "width": null,
            "min_width": null,
            "border": null,
            "align_items": null,
            "bottom": null,
            "_model_module": "@jupyter-widgets/base",
            "top": null,
            "grid_column": null,
            "overflow_y": null,
            "overflow_x": null,
            "grid_auto_flow": null,
            "grid_area": null,
            "grid_template_columns": null,
            "flex": null,
            "_model_name": "LayoutModel",
            "justify_items": null,
            "grid_row": null,
            "max_height": null,
            "align_content": null,
            "visibility": null,
            "align_self": null,
            "height": null,
            "min_height": null,
            "padding": null,
            "grid_auto_rows": null,
            "grid_gap": null,
            "max_width": null,
            "order": null,
            "_view_module_version": "1.2.0",
            "grid_template_areas": null,
            "object_position": null,
            "object_fit": null,
            "grid_auto_columns": null,
            "margin": null,
            "display": null,
            "left": null
          }
        }
      }
    }
  },
  "cells": [
    {
      "cell_type": "markdown",
      "metadata": {
        "id": "view-in-github",
        "colab_type": "text"
      },
      "source": [
        "<a href=\"https://colab.research.google.com/github/yinhao0424/reuster/blob/master/ReusterFewShotLearner.ipynb\" target=\"_parent\"><img src=\"https://colab.research.google.com/assets/colab-badge.svg\" alt=\"Open In Colab\"/></a>"
      ]
    },
    {
      "cell_type": "markdown",
      "metadata": {
        "id": "6cwKBtxgxHRX"
      },
      "source": [
        "Reference:\n",
        "- Paper/Blog\n",
        "  - [BERT word embedding](https://mccormickml.com/2019/05/14/BERT-word-embeddings-tutorial/#31-running-bert-on-our-text)\n",
        "  - [triplet-network-pytorch](https://github.com/andreasveit/triplet-network-pytorch/blob/master/train.py)\n",
        "  - [Sentence Embeddings using Siamese BERT-Networks - paper](https://www.aclweb.org/anthology/D19-1410.pdf)\n",
        "  - [Sentence Embeddings using Siamese BERT-Networks - colab](https://github.com/aneesha/SiameseBERT-Notebook/blob/master/SiameseBERT_SemanticSearch.ipynb)\n",
        "- Disscussion\n",
        "    - [Generate sequence classifier](https://github.com/huggingface/transformers/issues/1001)\n"
      ]
    },
    {
      "cell_type": "code",
      "metadata": {
        "colab": {
          "base_uri": "https://localhost:8080/"
        },
        "id": "Uw3viDMDjJyZ",
        "outputId": "411e87b1-cd62-44e1-c66c-ebbfb7d6e368"
      },
      "source": [
        "# a specific version of transformaer has been used \n",
        "! pip install -q transformers==3.0.2\n",
        "# !pip install -q transformers"
      ],
      "execution_count": 1,
      "outputs": [
        {
          "output_type": "stream",
          "text": [
            "\u001b[K     |████████████████████████████████| 778kB 4.2MB/s \n",
            "\u001b[K     |████████████████████████████████| 1.1MB 53.3MB/s \n",
            "\u001b[K     |████████████████████████████████| 890kB 52.1MB/s \n",
            "\u001b[K     |████████████████████████████████| 3.0MB 50.9MB/s \n",
            "\u001b[?25h  Building wheel for sacremoses (setup.py) ... \u001b[?25l\u001b[?25hdone\n"
          ],
          "name": "stdout"
        }
      ]
    },
    {
      "cell_type": "code",
      "metadata": {
        "id": "Pt2fu-WpjAPH"
      },
      "source": [
        "import numpy as np\n",
        "import pandas as pd\n",
        "from sklearn import metrics\n",
        "from tqdm import tqdm\n",
        "\n",
        "import matplotlib.pyplot as plt\n",
        "import seaborn as sns\n",
        "%matplotlib inline\n",
        "\n",
        "import transformers\n",
        "import torch\n",
        "from torch.utils.data import Dataset, DataLoader, RandomSampler, SequentialSampler\n",
        "from transformers import DistilBertTokenizer, DistilBertModel\n",
        "\n",
        "import warnings\n",
        "warnings.simplefilter('ignore')\n",
        "import logging\n",
        "logging.basicConfig(level=logging.ERROR)"
      ],
      "execution_count": 2,
      "outputs": []
    },
    {
      "cell_type": "code",
      "metadata": {
        "colab": {
          "base_uri": "https://localhost:8080/"
        },
        "id": "xFW4xEIzGyu9",
        "outputId": "1f760ed9-9f5e-4245-9c36-69cc2ffe3e3f"
      },
      "source": [
        "if torch.cuda.is_available():\n",
        "  device = torch.device(\"cuda\")\n",
        "else:\n",
        "  device = torch.device(\"cpu\")\n",
        "device"
      ],
      "execution_count": 3,
      "outputs": [
        {
          "output_type": "execute_result",
          "data": {
            "text/plain": [
              "device(type='cpu')"
            ]
          },
          "metadata": {
            "tags": []
          },
          "execution_count": 3
        }
      ]
    },
    {
      "cell_type": "code",
      "metadata": {
        "id": "36SizijJvWkJ",
        "colab": {
          "base_uri": "https://localhost:8080/",
          "height": 66,
          "referenced_widgets": [
            "8da8f77ac16e4094af9b7911d740f6cc",
            "17993655ca0d44f98b10861df0a3af96",
            "42c2112e1f8d46bdbe3b6cdeebaa5872",
            "115d27b42164420c81ddead7fc571f43",
            "4717e2459d6c4792a6665a207bfa8e52",
            "bbd68d48e3f04ec39796613c8ce4b2a6",
            "37aa23ec11cf4fbebd99a80ed83f8f83",
            "833dd4bd2874465283e5575995813b81"
          ]
        },
        "outputId": "f61a40a0-d381-439d-c616-30986a8635f0"
      },
      "source": [
        "# Sections of config\n",
        "# Defining some key variables that will be used later on in the training\n",
        "MAX_LEN = 256\n",
        "TRAIN_BATCH_SIZE = 8\n",
        "VALID_BATCH_SIZE = 4\n",
        "EPOCHS = 2\n",
        "LEARNING_RATE = 1e-05\n",
        "tokenizer = DistilBertTokenizer.from_pretrained('distilbert-base-uncased', truncation=True, do_lower_case=True)"
      ],
      "execution_count": 4,
      "outputs": [
        {
          "output_type": "display_data",
          "data": {
            "application/vnd.jupyter.widget-view+json": {
              "model_id": "8da8f77ac16e4094af9b7911d740f6cc",
              "version_minor": 0,
              "version_major": 2
            },
            "text/plain": [
              "HBox(children=(FloatProgress(value=0.0, description='Downloading', max=231508.0, style=ProgressStyle(descripti…"
            ]
          },
          "metadata": {
            "tags": []
          }
        },
        {
          "output_type": "stream",
          "text": [
            "\n"
          ],
          "name": "stdout"
        }
      ]
    },
    {
      "cell_type": "code",
      "metadata": {
        "colab": {
          "base_uri": "https://localhost:8080/",
          "height": 204
        },
        "id": "3aClwrmljPgj",
        "outputId": "582cade8-fe7b-41c2-c442-8cf0fc8e7949"
      },
      "source": [
        "reuster_train = pd.read_csv('/content/drive/MyDrive/data/reuters/reuster_fewshot_train.csv')\n",
        "reuster_train.head()"
      ],
      "execution_count": 5,
      "outputs": [
        {
          "output_type": "execute_result",
          "data": {
            "text/html": [
              "<div>\n",
              "<style scoped>\n",
              "    .dataframe tbody tr th:only-of-type {\n",
              "        vertical-align: middle;\n",
              "    }\n",
              "\n",
              "    .dataframe tbody tr th {\n",
              "        vertical-align: top;\n",
              "    }\n",
              "\n",
              "    .dataframe thead th {\n",
              "        text-align: right;\n",
              "    }\n",
              "</style>\n",
              "<table border=\"1\" class=\"dataframe\">\n",
              "  <thead>\n",
              "    <tr style=\"text-align: right;\">\n",
              "      <th></th>\n",
              "      <th>id</th>\n",
              "      <th>topics</th>\n",
              "      <th>texts</th>\n",
              "    </tr>\n",
              "  </thead>\n",
              "  <tbody>\n",
              "    <tr>\n",
              "      <th>0</th>\n",
              "      <td>4016</td>\n",
              "      <td>iron-steel</td>\n",
              "      <td>usx &lt;x&gt; proved oil, gas reserves fall in 1986u...</td>\n",
              "    </tr>\n",
              "    <tr>\n",
              "      <th>1</th>\n",
              "      <td>4022</td>\n",
              "      <td>carcass</td>\n",
              "      <td>argentine meat exports higher in jan/feb 1987a...</td>\n",
              "    </tr>\n",
              "    <tr>\n",
              "      <th>2</th>\n",
              "      <td>4022</td>\n",
              "      <td>livestock</td>\n",
              "      <td>argentine meat exports higher in jan/feb 1987a...</td>\n",
              "    </tr>\n",
              "    <tr>\n",
              "      <th>3</th>\n",
              "      <td>4035</td>\n",
              "      <td>veg-oil</td>\n",
              "      <td>british minister criticises proposed ec oils t...</td>\n",
              "    </tr>\n",
              "    <tr>\n",
              "      <th>4</th>\n",
              "      <td>4040</td>\n",
              "      <td>oilseed</td>\n",
              "      <td>china's rapeseed crop damaged by stormsthe yie...</td>\n",
              "    </tr>\n",
              "  </tbody>\n",
              "</table>\n",
              "</div>"
            ],
            "text/plain": [
              "     id      topics                                              texts\n",
              "0  4016  iron-steel  usx <x> proved oil, gas reserves fall in 1986u...\n",
              "1  4022     carcass  argentine meat exports higher in jan/feb 1987a...\n",
              "2  4022   livestock  argentine meat exports higher in jan/feb 1987a...\n",
              "3  4035     veg-oil  british minister criticises proposed ec oils t...\n",
              "4  4040     oilseed  china's rapeseed crop damaged by stormsthe yie..."
            ]
          },
          "metadata": {
            "tags": []
          },
          "execution_count": 5
        }
      ]
    },
    {
      "cell_type": "code",
      "metadata": {
        "colab": {
          "base_uri": "https://localhost:8080/"
        },
        "id": "FGkaOQbnjPuF",
        "outputId": "e1b44409-14f4-4a67-abd6-01c32d469749"
      },
      "source": [
        "reuster_train.shape"
      ],
      "execution_count": 6,
      "outputs": [
        {
          "output_type": "execute_result",
          "data": {
            "text/plain": [
              "(1143, 3)"
            ]
          },
          "metadata": {
            "tags": []
          },
          "execution_count": 6
        }
      ]
    },
    {
      "cell_type": "code",
      "metadata": {
        "id": "rrAnslsElya4"
      },
      "source": [
        "# #iron-steel\n",
        "# reuster_train.topics[0]\n",
        "# topics = reuster_train.topics\n",
        "# candi = topics[topics!='iron-steel'].index\n",
        "# idx = np.random.choice(candi)\n",
        "\n",
        "# print(topics[idx])"
      ],
      "execution_count": 7,
      "outputs": []
    },
    {
      "cell_type": "code",
      "metadata": {
        "id": "P09PmVIRuPlh"
      },
      "source": [
        "class FewShotDataset(Dataset):\n",
        "    \"\"\"\n",
        "        Input: a dataframe\n",
        "        output: anchor, positive and negative\n",
        "    \"\"\"\n",
        "    def __init__(self, dataframe, tokenizer, max_len):\n",
        "        self.tokenizer = tokenizer\n",
        "        self.data = dataframe\n",
        "        self.text = dataframe.texts\n",
        "        self.topics = self.data.topics\n",
        "        self.max_len = max_len\n",
        "\n",
        "    def __len__(self):\n",
        "        return len(self.text)\n",
        "\n",
        "    def __getitem__(self, index):\n",
        "        text = str(self.text[index])\n",
        "        text = \" \".join(text.split())\n",
        "\n",
        "        anchor = self.tokenizer.encode_plus(\n",
        "            text,\n",
        "            None,\n",
        "            add_special_tokens=True,\n",
        "            max_length=self.max_len,\n",
        "            pad_to_max_length=True,\n",
        "            return_token_type_ids=True\n",
        "        )\n",
        "\n",
        "        ids = anchor['input_ids']\n",
        "        mask = anchor['attention_mask']\n",
        "        # token_type_ids = anchor[\"token_type_ids\"]\n",
        "\n",
        "\n",
        "        return {'anchor':{\n",
        "            'ids': torch.tensor(ids, dtype=torch.long),\n",
        "            'mask': torch.tensor(mask, dtype=torch.long)},\n",
        "        'positive': self.get_positive(index),\n",
        "        'negative': self.get_negative(index)\n",
        "        }\n",
        "\n",
        "    def get_positive(self, index):\n",
        "         # the topic\n",
        "        topic = self.topics[index]\n",
        "\n",
        "        # select positive data which have the same topic with the anchor\n",
        "        candidates = self.topics[self.topics==topic].index\n",
        "        p_idx = index\n",
        "        while p_idx == index:\n",
        "          p_idx = np.random.choice(candidates)\n",
        "        \n",
        "        text = str(self.text[p_idx])\n",
        "        text = \" \".join(text.split())\n",
        "\n",
        "        positive = self.tokenizer.encode_plus(\n",
        "            text,\n",
        "            None,\n",
        "            add_special_tokens=True,\n",
        "            max_length=self.max_len,\n",
        "            pad_to_max_length=True,\n",
        "            return_token_type_ids=True\n",
        "        )\n",
        "\n",
        "        ids = positive['input_ids']\n",
        "        mask = positive['attention_mask']\n",
        "        # token_type_ids = positive[\"token_type_ids\"]\n",
        "\n",
        "        return {\n",
        "            'ids': torch.tensor(ids, dtype=torch.long),\n",
        "            'mask': torch.tensor(mask, dtype=torch.long)}\n",
        "\n",
        "    def get_negative(self, index):\n",
        "         # the topic\n",
        "        topic = self.topics[index]\n",
        "\n",
        "        # select positive data which have the same topic with the anchor\n",
        "        candidates = self.topics[self.topics!=topic].index\n",
        "        n_idx = index\n",
        "        n_idx = np.random.choice(candidates)\n",
        "        \n",
        "        text = str(self.text[n_idx])\n",
        "        text = \" \".join(text.split())\n",
        "\n",
        "        negative = self.tokenizer.encode_plus(\n",
        "            text,\n",
        "            None,\n",
        "            add_special_tokens=True,\n",
        "            max_length=self.max_len,\n",
        "            pad_to_max_length=True,\n",
        "            return_token_type_ids=True\n",
        "        )\n",
        "        ids = negative['input_ids']\n",
        "        mask = negative['attention_mask']\n",
        "        # token_type_ids = negative[\"token_type_ids\"]\n",
        "\n",
        "        return {\n",
        "            'ids': torch.tensor(ids, dtype=torch.long),\n",
        "            'mask': torch.tensor(mask, dtype=torch.long)}"
      ],
      "execution_count": 8,
      "outputs": []
    },
    {
      "cell_type": "code",
      "metadata": {
        "colab": {
          "base_uri": "https://localhost:8080/"
        },
        "id": "UqQNXOPslqo6",
        "outputId": "76acb16d-df07-4d19-d2cc-dba7c6e2a078"
      },
      "source": [
        "print(\"TRAIN Dataset: {}\".format(reuster_train.shape))\n",
        "# print(\"TEST Dataset: {}\".format(test_data.shape))\n",
        "\n",
        "training_set = FewShotDataset(reuster_train, tokenizer, MAX_LEN)\n",
        "# testing_set = MultiLabelDataset(test_data, tokenizer, MAX_LEN)"
      ],
      "execution_count": 9,
      "outputs": [
        {
          "output_type": "stream",
          "text": [
            "TRAIN Dataset: (1143, 3)\n"
          ],
          "name": "stdout"
        }
      ]
    },
    {
      "cell_type": "code",
      "metadata": {
        "id": "YKdMcmgovsnK"
      },
      "source": [
        "train_params = {'batch_size': TRAIN_BATCH_SIZE,\n",
        "                'shuffle': True,\n",
        "                'num_workers': 0\n",
        "                }\n",
        "\n",
        "test_params = {'batch_size': VALID_BATCH_SIZE,\n",
        "                'shuffle': True,\n",
        "                'num_workers': 0\n",
        "                }\n",
        "\n",
        "training_loader = DataLoader(training_set, **train_params)\n",
        "# testing_loader = DataLoader(testing_set, **test_params)"
      ],
      "execution_count": 10,
      "outputs": []
    },
    {
      "cell_type": "code",
      "metadata": {
        "colab": {
          "base_uri": "https://localhost:8080/"
        },
        "id": "WdrZU8QuvvSl",
        "outputId": "c86d201f-a270-4b9c-b4f9-2e573995483e"
      },
      "source": [
        "print(\"The len of training loader is {}.\".format(len(training_loader)))"
      ],
      "execution_count": 11,
      "outputs": [
        {
          "output_type": "stream",
          "text": [
            "The len of training loader is 143.\n"
          ],
          "name": "stdout"
        }
      ]
    },
    {
      "cell_type": "code",
      "metadata": {
        "id": "Ky2cZcupwJY2"
      },
      "source": [
        ""
      ],
      "execution_count": 11,
      "outputs": []
    },
    {
      "cell_type": "markdown",
      "metadata": {
        "id": "R8c5Z5-qwJ8U"
      },
      "source": [
        "## Create the Neural Network for Fine Tuning"
      ]
    },
    {
      "cell_type": "code",
      "metadata": {
        "id": "E-9OVcyyv4KQ",
        "colab": {
          "base_uri": "https://localhost:8080/",
          "height": 1000,
          "referenced_widgets": [
            "134c3963a48347a5b43529ac475bafa5",
            "33793878a1c141dcae2e4ae924c67ce0",
            "4efb0f4ea6154a48b02f9b2efa5f9062",
            "4c6e5f9977fa41e3a4ead8cb68163b19",
            "01cd8ad34f6e4112a3da41a3d474228f",
            "8e1c113dce894d26ace365d0119f32d5",
            "343f779d55cb4d84aa2c1503dff8acde",
            "7e7b3debc0154e879e9f124e7585c310",
            "27f888152f8d470ba3fe0be206f13a62",
            "e9b7a7c6e0ad46a9b8320b5dccb5e284",
            "f218e7ee937048329423e9986d19ad76",
            "0d56facaab0d4377ad7f13fb2d2dfdf2",
            "078def1aef084ba79d473a8af2d6e361",
            "19295b6f279a46da8b3c123c9ec32a71",
            "9a144192a6eb445c896244dfe087b051",
            "2650c31dc87f4802b336d3fabff06a87"
          ]
        },
        "outputId": "8e6d9e62-5036-4c69-aed8-c7458dcb7db4"
      },
      "source": [
        "class DistilBERTClass(torch.nn.Module):\n",
        "    def __init__(self):\n",
        "        super(DistilBERTClass, self).__init__()\n",
        "        self.l1 = DistilBertModel.from_pretrained(\"distilbert-base-uncased\")\n",
        "        self.pre_classifier = torch.nn.Linear(768, 768)\n",
        "        self.dropout = torch.nn.Dropout(0.1)\n",
        "        self.classifier = torch.nn.Linear(768, 256)\n",
        "\n",
        "    def forward(self, data):\n",
        "        input_ids = data['ids']\n",
        "        attention_mask = data['mask']\n",
        "\n",
        "        output_1 = self.l1(input_ids=input_ids, attention_mask=attention_mask)\n",
        "        hidden_state = output_1[0]\n",
        "        pooler = hidden_state[:, 0]\n",
        "        pooler = self.pre_classifier(pooler)\n",
        "        pooler = torch.nn.Tanh()(pooler)\n",
        "        pooler = self.dropout(pooler)\n",
        "        output = self.classifier(pooler)\n",
        "        return output\n",
        "\n",
        "    # def forward(self, anchor,positive,negative):\n",
        "    #     res_anchor = self.forward_once(anchor)\n",
        "    #     res_positive = self.forward_once(positive)\n",
        "    #     res_negative = self.forward_once(negative)\n",
        "    #     return res_anchor,res_positive,res_negative\n",
        "\n",
        "model = DistilBERTClass()\n",
        "model.to(device)"
      ],
      "execution_count": 12,
      "outputs": [
        {
          "output_type": "display_data",
          "data": {
            "application/vnd.jupyter.widget-view+json": {
              "model_id": "134c3963a48347a5b43529ac475bafa5",
              "version_minor": 0,
              "version_major": 2
            },
            "text/plain": [
              "HBox(children=(FloatProgress(value=0.0, description='Downloading', max=442.0, style=ProgressStyle(description_…"
            ]
          },
          "metadata": {
            "tags": []
          }
        },
        {
          "output_type": "stream",
          "text": [
            "\n"
          ],
          "name": "stdout"
        },
        {
          "output_type": "display_data",
          "data": {
            "application/vnd.jupyter.widget-view+json": {
              "model_id": "27f888152f8d470ba3fe0be206f13a62",
              "version_minor": 0,
              "version_major": 2
            },
            "text/plain": [
              "HBox(children=(FloatProgress(value=0.0, description='Downloading', max=267967963.0, style=ProgressStyle(descri…"
            ]
          },
          "metadata": {
            "tags": []
          }
        },
        {
          "output_type": "stream",
          "text": [
            "\n"
          ],
          "name": "stdout"
        },
        {
          "output_type": "execute_result",
          "data": {
            "text/plain": [
              "DistilBERTClass(\n",
              "  (l1): DistilBertModel(\n",
              "    (embeddings): Embeddings(\n",
              "      (word_embeddings): Embedding(30522, 768, padding_idx=0)\n",
              "      (position_embeddings): Embedding(512, 768)\n",
              "      (LayerNorm): LayerNorm((768,), eps=1e-12, elementwise_affine=True)\n",
              "      (dropout): Dropout(p=0.1, inplace=False)\n",
              "    )\n",
              "    (transformer): Transformer(\n",
              "      (layer): ModuleList(\n",
              "        (0): TransformerBlock(\n",
              "          (attention): MultiHeadSelfAttention(\n",
              "            (dropout): Dropout(p=0.1, inplace=False)\n",
              "            (q_lin): Linear(in_features=768, out_features=768, bias=True)\n",
              "            (k_lin): Linear(in_features=768, out_features=768, bias=True)\n",
              "            (v_lin): Linear(in_features=768, out_features=768, bias=True)\n",
              "            (out_lin): Linear(in_features=768, out_features=768, bias=True)\n",
              "          )\n",
              "          (sa_layer_norm): LayerNorm((768,), eps=1e-12, elementwise_affine=True)\n",
              "          (ffn): FFN(\n",
              "            (dropout): Dropout(p=0.1, inplace=False)\n",
              "            (lin1): Linear(in_features=768, out_features=3072, bias=True)\n",
              "            (lin2): Linear(in_features=3072, out_features=768, bias=True)\n",
              "          )\n",
              "          (output_layer_norm): LayerNorm((768,), eps=1e-12, elementwise_affine=True)\n",
              "        )\n",
              "        (1): TransformerBlock(\n",
              "          (attention): MultiHeadSelfAttention(\n",
              "            (dropout): Dropout(p=0.1, inplace=False)\n",
              "            (q_lin): Linear(in_features=768, out_features=768, bias=True)\n",
              "            (k_lin): Linear(in_features=768, out_features=768, bias=True)\n",
              "            (v_lin): Linear(in_features=768, out_features=768, bias=True)\n",
              "            (out_lin): Linear(in_features=768, out_features=768, bias=True)\n",
              "          )\n",
              "          (sa_layer_norm): LayerNorm((768,), eps=1e-12, elementwise_affine=True)\n",
              "          (ffn): FFN(\n",
              "            (dropout): Dropout(p=0.1, inplace=False)\n",
              "            (lin1): Linear(in_features=768, out_features=3072, bias=True)\n",
              "            (lin2): Linear(in_features=3072, out_features=768, bias=True)\n",
              "          )\n",
              "          (output_layer_norm): LayerNorm((768,), eps=1e-12, elementwise_affine=True)\n",
              "        )\n",
              "        (2): TransformerBlock(\n",
              "          (attention): MultiHeadSelfAttention(\n",
              "            (dropout): Dropout(p=0.1, inplace=False)\n",
              "            (q_lin): Linear(in_features=768, out_features=768, bias=True)\n",
              "            (k_lin): Linear(in_features=768, out_features=768, bias=True)\n",
              "            (v_lin): Linear(in_features=768, out_features=768, bias=True)\n",
              "            (out_lin): Linear(in_features=768, out_features=768, bias=True)\n",
              "          )\n",
              "          (sa_layer_norm): LayerNorm((768,), eps=1e-12, elementwise_affine=True)\n",
              "          (ffn): FFN(\n",
              "            (dropout): Dropout(p=0.1, inplace=False)\n",
              "            (lin1): Linear(in_features=768, out_features=3072, bias=True)\n",
              "            (lin2): Linear(in_features=3072, out_features=768, bias=True)\n",
              "          )\n",
              "          (output_layer_norm): LayerNorm((768,), eps=1e-12, elementwise_affine=True)\n",
              "        )\n",
              "        (3): TransformerBlock(\n",
              "          (attention): MultiHeadSelfAttention(\n",
              "            (dropout): Dropout(p=0.1, inplace=False)\n",
              "            (q_lin): Linear(in_features=768, out_features=768, bias=True)\n",
              "            (k_lin): Linear(in_features=768, out_features=768, bias=True)\n",
              "            (v_lin): Linear(in_features=768, out_features=768, bias=True)\n",
              "            (out_lin): Linear(in_features=768, out_features=768, bias=True)\n",
              "          )\n",
              "          (sa_layer_norm): LayerNorm((768,), eps=1e-12, elementwise_affine=True)\n",
              "          (ffn): FFN(\n",
              "            (dropout): Dropout(p=0.1, inplace=False)\n",
              "            (lin1): Linear(in_features=768, out_features=3072, bias=True)\n",
              "            (lin2): Linear(in_features=3072, out_features=768, bias=True)\n",
              "          )\n",
              "          (output_layer_norm): LayerNorm((768,), eps=1e-12, elementwise_affine=True)\n",
              "        )\n",
              "        (4): TransformerBlock(\n",
              "          (attention): MultiHeadSelfAttention(\n",
              "            (dropout): Dropout(p=0.1, inplace=False)\n",
              "            (q_lin): Linear(in_features=768, out_features=768, bias=True)\n",
              "            (k_lin): Linear(in_features=768, out_features=768, bias=True)\n",
              "            (v_lin): Linear(in_features=768, out_features=768, bias=True)\n",
              "            (out_lin): Linear(in_features=768, out_features=768, bias=True)\n",
              "          )\n",
              "          (sa_layer_norm): LayerNorm((768,), eps=1e-12, elementwise_affine=True)\n",
              "          (ffn): FFN(\n",
              "            (dropout): Dropout(p=0.1, inplace=False)\n",
              "            (lin1): Linear(in_features=768, out_features=3072, bias=True)\n",
              "            (lin2): Linear(in_features=3072, out_features=768, bias=True)\n",
              "          )\n",
              "          (output_layer_norm): LayerNorm((768,), eps=1e-12, elementwise_affine=True)\n",
              "        )\n",
              "        (5): TransformerBlock(\n",
              "          (attention): MultiHeadSelfAttention(\n",
              "            (dropout): Dropout(p=0.1, inplace=False)\n",
              "            (q_lin): Linear(in_features=768, out_features=768, bias=True)\n",
              "            (k_lin): Linear(in_features=768, out_features=768, bias=True)\n",
              "            (v_lin): Linear(in_features=768, out_features=768, bias=True)\n",
              "            (out_lin): Linear(in_features=768, out_features=768, bias=True)\n",
              "          )\n",
              "          (sa_layer_norm): LayerNorm((768,), eps=1e-12, elementwise_affine=True)\n",
              "          (ffn): FFN(\n",
              "            (dropout): Dropout(p=0.1, inplace=False)\n",
              "            (lin1): Linear(in_features=768, out_features=3072, bias=True)\n",
              "            (lin2): Linear(in_features=3072, out_features=768, bias=True)\n",
              "          )\n",
              "          (output_layer_norm): LayerNorm((768,), eps=1e-12, elementwise_affine=True)\n",
              "        )\n",
              "      )\n",
              "    )\n",
              "  )\n",
              "  (pre_classifier): Linear(in_features=768, out_features=768, bias=True)\n",
              "  (dropout): Dropout(p=0.1, inplace=False)\n",
              "  (classifier): Linear(in_features=768, out_features=256, bias=True)\n",
              ")"
            ]
          },
          "metadata": {
            "tags": []
          },
          "execution_count": 12
        }
      ]
    },
    {
      "cell_type": "code",
      "metadata": {
        "id": "VAjnMgenGsQg"
      },
      "source": [
        "def triplet_loss(anchor, positive, negative):\n",
        "  loss = torch.nn.TripletMarginLoss(margin=1.0, p=2)\n",
        "  return loss(anchor, positive, negative)"
      ],
      "execution_count": 13,
      "outputs": []
    },
    {
      "cell_type": "code",
      "metadata": {
        "id": "h3xlIIfeGsW4"
      },
      "source": [
        "optimizer = torch.optim.Adam(params =  model.parameters(), lr=LEARNING_RATE)"
      ],
      "execution_count": 14,
      "outputs": []
    },
    {
      "cell_type": "code",
      "metadata": {
        "id": "9jL2Zi_0GsbL"
      },
      "source": [
        "# model input: input_ids, attention_mask, token_type_ids\n",
        "# training_loader:   return {'anchor':{\n",
        "        #     'ids': torch.tensor(ids, dtype=torch.long),\n",
        "        #     'mask': torch.tensor(mask, dtype=torch.long),\n",
        "        #     'token_type_ids': torch.tensor(token_type_ids, dtype=torch.long)},\n",
        "        # 'positive': self.get_positive(index),\n",
        "        # 'negative': self.get_negative(index)\n",
        "        # }\n",
        "def train(epoch):\n",
        "    model.train()\n",
        "    for _,data in tqdm(enumerate(training_loader, 0)):\n",
        "        anchor = data['anchor']\n",
        "        positive = data['positive']\n",
        "        negative = data['negative']\n",
        "        res_anchor,res_positive,res_negative = model(anchor),model(positive),model(negative)\n",
        "        # res_anchor,res_positive,res_negative = model(anchor,positive,negative)\n",
        "\n",
        "        optimizer.zero_grad()\n",
        "        loss = triplet_loss(res_anchor,res_positive,res_negative)\n",
        "        if _%20==0:\n",
        "            print(f'Epoch: {epoch}, Loss:  {loss.item()}')\n",
        "        \n",
        "        optimizer.zero_grad()\n",
        "        loss.backward()\n",
        "        optimizer.step()"
      ],
      "execution_count": 15,
      "outputs": []
    },
    {
      "cell_type": "code",
      "metadata": {
        "colab": {
          "base_uri": "https://localhost:8080/"
        },
        "id": "VvRex_rqX_G6",
        "outputId": "9c27b393-d5d5-4ef6-e3d2-ff3b3ce5fb36"
      },
      "source": [
        "# 101,  7592,  1010,  2026,  3899,  2003, 10140,   102]\n",
        "# for _,data in tqdm(enumerate(training_loader, 0)):\n",
        "#     anchor = data['anchor']\n",
        "#     positive = data['positive']\n",
        "#     negative = data['negative']\n",
        "#     # print(anchor)\n",
        "#     res_anchor,res_positive,res_negative = model(anchor),model(positive),model(negative)\n",
        "#     print(res_anchor)\n",
        "#     break\n"
      ],
      "execution_count": 16,
      "outputs": [
        {
          "output_type": "stream",
          "text": [
            "\r0it [00:00, ?it/s]"
          ],
          "name": "stderr"
        },
        {
          "output_type": "stream",
          "text": [
            "tensor([[ 0.0150,  0.2781,  0.0539,  ..., -0.0671, -0.1414, -0.2027],\n",
            "        [-0.0738,  0.2706,  0.0399,  ..., -0.1368, -0.1213, -0.2575],\n",
            "        [-0.0792,  0.2642,  0.0393,  ..., -0.0070, -0.1887, -0.1760],\n",
            "        ...,\n",
            "        [-0.0014,  0.2907,  0.0887,  ..., -0.1080,  0.0004, -0.1858],\n",
            "        [ 0.0423,  0.1955, -0.0205,  ..., -0.0482, -0.1494, -0.1603],\n",
            "        [ 0.1207,  0.2113,  0.0879,  ..., -0.0489, -0.0202, -0.0949]],\n",
            "       grad_fn=<AddmmBackward>)\n"
          ],
          "name": "stdout"
        }
      ]
    },
    {
      "cell_type": "code",
      "metadata": {
        "colab": {
          "base_uri": "https://localhost:8080/"
        },
        "id": "_dI7V0kjUb-W",
        "outputId": "7af0a978-69a5-4adb-d070-34cbaac66546"
      },
      "source": [
        "\n",
        "for epoch in range(EPOCHS):\n",
        "    train(epoch)"
      ],
      "execution_count": 17,
      "outputs": [
        {
          "output_type": "stream",
          "text": [
            "\n",
            "0it [00:00, ?it/s]\u001b[A"
          ],
          "name": "stderr"
        },
        {
          "output_type": "stream",
          "text": [
            "Epoch: 0, Loss:  0.9176938533782959\n"
          ],
          "name": "stdout"
        },
        {
          "output_type": "stream",
          "text": [
            "\n",
            "1it [00:30, 30.93s/it]\u001b[A\n",
            "2it [01:00, 30.60s/it]\u001b[A\n",
            "3it [01:30, 30.26s/it]\u001b[A\n",
            "4it [01:59, 30.01s/it]\u001b[A\n",
            "5it [02:29, 29.87s/it]\u001b[A\n",
            "6it [02:59, 30.00s/it]\u001b[A\n",
            "7it [03:29, 29.87s/it]\u001b[A\n",
            "8it [03:58, 29.75s/it]\u001b[A\n",
            "9it [04:28, 29.67s/it]\u001b[A\n",
            "10it [04:57, 29.57s/it]\u001b[A\n",
            "11it [05:26, 29.51s/it]\u001b[A\n",
            "12it [05:56, 29.55s/it]\u001b[A\n",
            "13it [06:25, 29.49s/it]\u001b[A\n",
            "14it [06:55, 29.48s/it]\u001b[A\n",
            "15it [07:24, 29.54s/it]\u001b[A\n",
            "16it [07:54, 29.57s/it]\u001b[A\n",
            "17it [08:24, 29.55s/it]\u001b[A\n",
            "18it [08:53, 29.58s/it]\u001b[A\n",
            "19it [09:23, 29.60s/it]\u001b[A\n",
            "20it [09:52, 29.59s/it]\u001b[A"
          ],
          "name": "stderr"
        },
        {
          "output_type": "stream",
          "text": [
            "Epoch: 0, Loss:  0.9406020045280457\n"
          ],
          "name": "stdout"
        },
        {
          "output_type": "stream",
          "text": [
            "\n",
            "21it [10:22, 29.51s/it]\u001b[A\n",
            "22it [10:51, 29.47s/it]\u001b[A\n",
            "23it [11:21, 29.48s/it]\u001b[A\n",
            "24it [11:50, 29.51s/it]\u001b[A\n",
            "25it [12:20, 29.55s/it]\u001b[A\n",
            "26it [12:49, 29.58s/it]\u001b[A\n",
            "27it [13:20, 29.78s/it]\u001b[A\n",
            "28it [13:49, 29.78s/it]\u001b[A\n",
            "29it [14:19, 29.72s/it]\u001b[A\n",
            "30it [14:49, 29.74s/it]\u001b[A\n",
            "31it [15:19, 29.73s/it]\u001b[A\n",
            "32it [15:48, 29.74s/it]\u001b[A\n",
            "33it [16:18, 29.66s/it]\u001b[A\n",
            "34it [16:47, 29.58s/it]\u001b[A\n",
            "35it [17:17, 29.52s/it]\u001b[A\n",
            "36it [17:46, 29.60s/it]\u001b[A\n",
            "37it [18:16, 29.63s/it]\u001b[A\n",
            "38it [18:46, 29.62s/it]\u001b[A\n",
            "39it [19:15, 29.59s/it]\u001b[A\n",
            "40it [19:45, 29.63s/it]\u001b[A"
          ],
          "name": "stderr"
        },
        {
          "output_type": "stream",
          "text": [
            "Epoch: 0, Loss:  0.39005225896835327\n"
          ],
          "name": "stdout"
        },
        {
          "output_type": "stream",
          "text": [
            "\n",
            "41it [20:14, 29.60s/it]\u001b[A\n",
            "42it [20:44, 29.56s/it]\u001b[A\n",
            "43it [21:13, 29.52s/it]\u001b[A\n",
            "44it [21:43, 29.51s/it]\u001b[A\n",
            "45it [22:12, 29.43s/it]\u001b[A\n",
            "46it [22:41, 29.36s/it]\u001b[A\n",
            "47it [23:11, 29.39s/it]\u001b[A\n",
            "48it [23:41, 29.57s/it]\u001b[A\n",
            "49it [24:10, 29.50s/it]\u001b[A\n",
            "50it [24:39, 29.49s/it]\u001b[A\n",
            "51it [25:09, 29.51s/it]\u001b[A\n",
            "52it [25:39, 29.55s/it]\u001b[A\n",
            "53it [26:08, 29.58s/it]\u001b[A\n",
            "54it [26:38, 29.57s/it]\u001b[A\n",
            "55it [27:07, 29.57s/it]\u001b[A\n",
            "56it [27:37, 29.55s/it]\u001b[A\n",
            "57it [28:07, 29.54s/it]\u001b[A\n",
            "58it [28:36, 29.48s/it]\u001b[A\n",
            "59it [29:05, 29.47s/it]\u001b[A\n",
            "60it [29:35, 29.48s/it]\u001b[A"
          ],
          "name": "stderr"
        },
        {
          "output_type": "stream",
          "text": [
            "Epoch: 0, Loss:  0.515407919883728\n"
          ],
          "name": "stdout"
        },
        {
          "output_type": "stream",
          "text": [
            "\n",
            "61it [30:04, 29.45s/it]\u001b[A\n",
            "62it [30:34, 29.43s/it]\u001b[A\n",
            "63it [31:03, 29.46s/it]\u001b[A\n",
            "64it [31:32, 29.44s/it]\u001b[A\n",
            "65it [32:02, 29.46s/it]\u001b[A\n",
            "66it [32:31, 29.43s/it]\u001b[A\n",
            "67it [33:01, 29.43s/it]\u001b[A\n",
            "68it [33:31, 29.61s/it]\u001b[A\n",
            "69it [34:00, 29.60s/it]\u001b[A\n",
            "70it [34:30, 29.55s/it]\u001b[A\n",
            "71it [34:59, 29.49s/it]\u001b[A\n",
            "72it [35:29, 29.50s/it]\u001b[A\n",
            "73it [35:58, 29.53s/it]\u001b[A\n",
            "74it [36:28, 29.45s/it]\u001b[A\n",
            "75it [36:57, 29.40s/it]\u001b[A\n",
            "76it [37:26, 29.38s/it]\u001b[A\n",
            "77it [37:56, 29.38s/it]\u001b[A\n",
            "78it [38:25, 29.38s/it]\u001b[A\n",
            "79it [38:54, 29.35s/it]\u001b[A\n",
            "80it [39:24, 29.35s/it]\u001b[A"
          ],
          "name": "stderr"
        },
        {
          "output_type": "stream",
          "text": [
            "Epoch: 0, Loss:  0.43503692746162415\n"
          ],
          "name": "stdout"
        },
        {
          "output_type": "stream",
          "text": [
            "\n",
            "81it [39:53, 29.33s/it]\u001b[A\n",
            "82it [40:22, 29.26s/it]\u001b[A\n",
            "83it [40:51, 29.22s/it]\u001b[A\n",
            "84it [41:20, 29.21s/it]\u001b[A\n",
            "85it [41:50, 29.27s/it]\u001b[A\n",
            "86it [42:19, 29.31s/it]\u001b[A\n",
            "87it [42:49, 29.37s/it]\u001b[A\n",
            "88it [43:18, 29.37s/it]\u001b[A\n",
            "89it [43:48, 29.56s/it]\u001b[A\n",
            "90it [44:17, 29.42s/it]\u001b[A\n",
            "91it [44:47, 29.44s/it]\u001b[A\n",
            "92it [45:16, 29.50s/it]\u001b[A\n",
            "93it [45:46, 29.57s/it]\u001b[A\n",
            "94it [46:16, 29.59s/it]\u001b[A\n",
            "95it [46:45, 29.63s/it]\u001b[A\n",
            "96it [47:15, 29.66s/it]\u001b[A\n",
            "97it [47:45, 29.72s/it]\u001b[A\n",
            "98it [48:15, 29.72s/it]\u001b[A\n",
            "99it [48:44, 29.75s/it]\u001b[A\n",
            "100it [49:14, 29.76s/it]\u001b[A"
          ],
          "name": "stderr"
        },
        {
          "output_type": "stream",
          "text": [
            "Epoch: 0, Loss:  0.6118994355201721\n"
          ],
          "name": "stdout"
        },
        {
          "output_type": "stream",
          "text": [
            "\n",
            "101it [49:44, 29.78s/it]\u001b[A\n",
            "102it [50:14, 29.80s/it]\u001b[A\n",
            "103it [50:44, 29.78s/it]\u001b[A\n",
            "104it [51:13, 29.79s/it]\u001b[A\n",
            "105it [51:43, 29.80s/it]\u001b[A\n",
            "106it [52:13, 29.80s/it]\u001b[A\n",
            "107it [52:43, 29.82s/it]\u001b[A\n",
            "108it [53:13, 29.82s/it]\u001b[A\n",
            "109it [53:43, 29.83s/it]\u001b[A\n",
            "110it [54:13, 29.95s/it]\u001b[A\n",
            "111it [54:43, 29.89s/it]\u001b[A\n",
            "112it [55:12, 29.85s/it]\u001b[A\n",
            "113it [55:42, 29.84s/it]\u001b[A\n",
            "114it [56:12, 29.82s/it]\u001b[A\n",
            "115it [56:42, 29.81s/it]\u001b[A\n",
            "116it [57:12, 29.83s/it]\u001b[A\n",
            "117it [57:41, 29.85s/it]\u001b[A\n",
            "118it [58:11, 29.87s/it]\u001b[A\n",
            "119it [58:41, 29.85s/it]\u001b[A\n",
            "120it [59:11, 29.84s/it]\u001b[A"
          ],
          "name": "stderr"
        },
        {
          "output_type": "stream",
          "text": [
            "Epoch: 0, Loss:  0.1347637176513672\n"
          ],
          "name": "stdout"
        },
        {
          "output_type": "stream",
          "text": [
            "\n",
            "121it [59:41, 29.82s/it]\u001b[A\n",
            "122it [1:00:11, 29.82s/it]\u001b[A\n",
            "123it [1:00:40, 29.84s/it]\u001b[A\n",
            "124it [1:01:10, 29.80s/it]\u001b[A\n",
            "125it [1:01:40, 29.78s/it]\u001b[A\n",
            "126it [1:02:10, 29.78s/it]\u001b[A\n",
            "127it [1:02:40, 29.80s/it]\u001b[A\n",
            "128it [1:03:10, 29.85s/it]\u001b[A\n",
            "129it [1:03:39, 29.83s/it]\u001b[A\n",
            "130it [1:04:10, 29.97s/it]\u001b[A\n",
            "131it [1:04:39, 29.81s/it]\u001b[A\n",
            "132it [1:05:09, 29.75s/it]\u001b[A\n",
            "133it [1:05:38, 29.69s/it]\u001b[A\n",
            "134it [1:06:08, 29.70s/it]\u001b[A\n",
            "135it [1:06:38, 29.74s/it]\u001b[A\n",
            "136it [1:07:07, 29.73s/it]\u001b[A\n",
            "137it [1:07:37, 29.74s/it]\u001b[A\n",
            "138it [1:08:07, 29.76s/it]\u001b[A\n",
            "139it [1:08:37, 29.76s/it]\u001b[A\n",
            "140it [1:09:07, 29.77s/it]\u001b[A"
          ],
          "name": "stderr"
        },
        {
          "output_type": "stream",
          "text": [
            "Epoch: 0, Loss:  0.039137691259384155\n"
          ],
          "name": "stdout"
        },
        {
          "output_type": "stream",
          "text": [
            "\n",
            "141it [1:09:36, 29.79s/it]\u001b[A\n",
            "142it [1:10:06, 29.75s/it]\u001b[A\n",
            "143it [1:10:32, 29.60s/it]\n",
            "\n",
            "0it [00:00, ?it/s]\u001b[A"
          ],
          "name": "stderr"
        },
        {
          "output_type": "stream",
          "text": [
            "Epoch: 1, Loss:  0.3646705448627472\n"
          ],
          "name": "stdout"
        },
        {
          "output_type": "stream",
          "text": [
            "\n",
            "1it [00:29, 29.69s/it]\u001b[A\n",
            "2it [00:59, 29.61s/it]\u001b[A\n",
            "3it [01:28, 29.53s/it]\u001b[A\n",
            "4it [01:57, 29.40s/it]\u001b[A\n",
            "5it [02:26, 29.35s/it]\u001b[A\n",
            "6it [02:56, 29.37s/it]\u001b[A\n",
            "7it [03:25, 29.38s/it]\u001b[A\n",
            "8it [03:55, 29.49s/it]\u001b[A\n",
            "9it [04:24, 29.31s/it]\u001b[A\n",
            "10it [04:53, 29.30s/it]\u001b[A\n",
            "11it [05:22, 29.29s/it]\u001b[A\n",
            "12it [05:52, 29.31s/it]\u001b[A\n",
            "13it [06:21, 29.36s/it]\u001b[A\n",
            "14it [06:50, 29.34s/it]\u001b[A\n",
            "15it [07:20, 29.33s/it]\u001b[A\n",
            "16it [07:49, 29.25s/it]\u001b[A\n",
            "17it [08:18, 29.22s/it]\u001b[A\n",
            "18it [08:47, 29.30s/it]\u001b[A\n",
            "19it [09:17, 29.38s/it]\u001b[A\n",
            "20it [09:46, 29.33s/it]\u001b[A"
          ],
          "name": "stderr"
        },
        {
          "output_type": "stream",
          "text": [
            "Epoch: 1, Loss:  0.14457672834396362\n"
          ],
          "name": "stdout"
        },
        {
          "output_type": "stream",
          "text": [
            "\n",
            "21it [10:15, 29.22s/it]\u001b[A\n",
            "22it [10:44, 29.12s/it]\u001b[A\n",
            "23it [11:13, 29.14s/it]\u001b[A\n",
            "24it [11:42, 29.10s/it]\u001b[A\n",
            "25it [12:11, 29.02s/it]\u001b[A\n",
            "26it [12:40, 28.99s/it]\u001b[A\n",
            "27it [13:09, 29.14s/it]\u001b[A\n",
            "28it [13:39, 29.25s/it]\u001b[A\n",
            "29it [14:09, 29.54s/it]\u001b[A\n",
            "30it [14:39, 29.63s/it]\u001b[A\n",
            "31it [15:09, 29.66s/it]\u001b[A\n",
            "32it [15:38, 29.65s/it]\u001b[A\n",
            "33it [16:08, 29.63s/it]\u001b[A\n",
            "34it [16:38, 29.64s/it]\u001b[A\n",
            "35it [17:07, 29.66s/it]\u001b[A\n",
            "36it [17:37, 29.67s/it]\u001b[A\n",
            "37it [18:07, 29.66s/it]\u001b[A\n",
            "38it [18:36, 29.68s/it]\u001b[A\n",
            "39it [19:06, 29.70s/it]\u001b[A\n",
            "40it [19:36, 29.68s/it]\u001b[A"
          ],
          "name": "stderr"
        },
        {
          "output_type": "stream",
          "text": [
            "Epoch: 1, Loss:  0.03002721071243286\n"
          ],
          "name": "stdout"
        },
        {
          "output_type": "stream",
          "text": [
            "\n",
            "41it [20:05, 29.66s/it]\u001b[A\n",
            "42it [20:35, 29.65s/it]\u001b[A\n",
            "43it [21:05, 29.66s/it]\u001b[A\n",
            "44it [21:34, 29.68s/it]\u001b[A\n",
            "45it [22:04, 29.66s/it]\u001b[A\n",
            "46it [22:34, 29.69s/it]\u001b[A\n",
            "47it [23:04, 29.73s/it]\u001b[A\n",
            "48it [23:33, 29.77s/it]\u001b[A\n",
            "49it [24:04, 29.92s/it]\u001b[A\n",
            "50it [24:34, 29.87s/it]\u001b[A\n",
            "51it [25:03, 29.85s/it]\u001b[A\n",
            "52it [25:33, 29.82s/it]\u001b[A\n",
            "53it [26:03, 29.79s/it]\u001b[A\n",
            "54it [26:33, 29.77s/it]\u001b[A\n",
            "55it [27:02, 29.77s/it]\u001b[A\n",
            "56it [27:32, 29.78s/it]\u001b[A\n",
            "57it [28:02, 29.76s/it]\u001b[A\n",
            "58it [28:32, 29.76s/it]\u001b[A\n",
            "59it [29:01, 29.80s/it]\u001b[A\n",
            "60it [29:31, 29.80s/it]\u001b[A"
          ],
          "name": "stderr"
        },
        {
          "output_type": "stream",
          "text": [
            "Epoch: 1, Loss:  0.0\n"
          ],
          "name": "stdout"
        },
        {
          "output_type": "stream",
          "text": [
            "\n",
            "61it [30:01, 29.78s/it]\u001b[A\n",
            "62it [30:31, 29.79s/it]\u001b[A\n",
            "63it [31:01, 29.81s/it]\u001b[A\n",
            "64it [31:30, 29.80s/it]\u001b[A\n",
            "65it [32:00, 29.78s/it]\u001b[A\n",
            "66it [32:30, 29.79s/it]\u001b[A\n",
            "67it [33:00, 29.80s/it]\u001b[A\n",
            "68it [33:30, 29.81s/it]\u001b[A\n",
            "69it [34:00, 29.83s/it]\u001b[A\n",
            "70it [34:30, 30.00s/it]\u001b[A\n",
            "71it [35:00, 29.95s/it]\u001b[A\n",
            "72it [35:30, 29.92s/it]\u001b[A\n",
            "73it [35:59, 29.87s/it]\u001b[A\n",
            "74it [36:29, 29.86s/it]\u001b[A\n",
            "75it [36:59, 29.84s/it]\u001b[A\n",
            "76it [37:29, 29.83s/it]\u001b[A\n",
            "77it [37:59, 29.81s/it]\u001b[A\n",
            "78it [38:28, 29.77s/it]\u001b[A\n",
            "79it [38:58, 29.74s/it]\u001b[A\n",
            "80it [39:28, 29.74s/it]\u001b[A"
          ],
          "name": "stderr"
        },
        {
          "output_type": "stream",
          "text": [
            "Epoch: 1, Loss:  0.36327263712882996\n"
          ],
          "name": "stdout"
        },
        {
          "output_type": "stream",
          "text": [
            "\n",
            "81it [39:57, 29.72s/it]\u001b[A\n",
            "82it [40:27, 29.70s/it]\u001b[A\n",
            "83it [40:57, 29.70s/it]\u001b[A\n",
            "84it [41:26, 29.71s/it]\u001b[A\n",
            "85it [41:56, 29.76s/it]\u001b[A\n",
            "86it [42:26, 29.76s/it]\u001b[A\n",
            "87it [42:56, 29.77s/it]\u001b[A\n",
            "88it [43:26, 29.77s/it]\u001b[A\n",
            "89it [43:55, 29.73s/it]\u001b[A\n",
            "90it [44:26, 29.92s/it]\u001b[A\n",
            "91it [44:55, 29.87s/it]\u001b[A\n",
            "92it [45:25, 29.85s/it]\u001b[A\n",
            "93it [45:55, 29.82s/it]\u001b[A\n",
            "94it [46:25, 29.77s/it]\u001b[A\n",
            "95it [46:54, 29.73s/it]\u001b[A\n",
            "96it [47:24, 29.69s/it]\u001b[A\n",
            "97it [47:53, 29.65s/it]\u001b[A\n",
            "98it [48:23, 29.57s/it]\u001b[A\n",
            "99it [48:52, 29.59s/it]\u001b[A\n",
            "100it [49:22, 29.63s/it]\u001b[A"
          ],
          "name": "stderr"
        },
        {
          "output_type": "stream",
          "text": [
            "Epoch: 1, Loss:  0.024681508541107178\n"
          ],
          "name": "stdout"
        },
        {
          "output_type": "stream",
          "text": [
            "\n",
            "101it [49:52, 29.65s/it]\u001b[A\n",
            "102it [50:21, 29.62s/it]\u001b[A\n",
            "103it [50:51, 29.60s/it]\u001b[A\n",
            "104it [51:20, 29.58s/it]\u001b[A\n",
            "105it [51:50, 29.53s/it]\u001b[A\n",
            "106it [52:19, 29.46s/it]\u001b[A\n",
            "107it [52:49, 29.46s/it]\u001b[A\n",
            "108it [53:18, 29.45s/it]\u001b[A\n",
            "109it [53:47, 29.39s/it]\u001b[A\n",
            "110it [54:17, 29.35s/it]\u001b[A\n",
            "111it [54:47, 29.58s/it]\u001b[A\n",
            "112it [55:16, 29.56s/it]\u001b[A\n",
            "113it [55:45, 29.42s/it]\u001b[A\n",
            "114it [56:14, 29.35s/it]\u001b[A\n",
            "115it [56:44, 29.30s/it]\u001b[A\n",
            "116it [57:13, 29.29s/it]\u001b[A\n",
            "117it [57:42, 29.27s/it]\u001b[A\n",
            "118it [58:11, 29.21s/it]\u001b[A\n",
            "119it [58:40, 29.20s/it]\u001b[A\n",
            "120it [59:10, 29.19s/it]\u001b[A"
          ],
          "name": "stderr"
        },
        {
          "output_type": "stream",
          "text": [
            "Epoch: 1, Loss:  0.5366882085800171\n"
          ],
          "name": "stdout"
        },
        {
          "output_type": "stream",
          "text": [
            "\n",
            "121it [59:39, 29.21s/it]\u001b[A\n",
            "122it [1:00:08, 29.31s/it]\u001b[A\n",
            "123it [1:00:38, 29.30s/it]\u001b[A\n",
            "124it [1:01:07, 29.34s/it]\u001b[A\n",
            "125it [1:01:36, 29.26s/it]\u001b[A\n",
            "126it [1:02:05, 29.18s/it]\u001b[A\n",
            "127it [1:02:34, 29.14s/it]\u001b[A\n",
            "128it [1:03:03, 29.14s/it]\u001b[A\n",
            "129it [1:03:32, 29.15s/it]\u001b[A\n",
            "130it [1:04:02, 29.16s/it]\u001b[A\n",
            "131it [1:04:31, 29.16s/it]\u001b[A\n",
            "132it [1:05:01, 29.42s/it]\u001b[A\n",
            "133it [1:05:30, 29.37s/it]\u001b[A\n",
            "134it [1:05:59, 29.36s/it]\u001b[A\n",
            "135it [1:06:29, 29.32s/it]\u001b[A\n",
            "136it [1:06:58, 29.29s/it]\u001b[A\n",
            "137it [1:07:27, 29.28s/it]\u001b[A\n",
            "138it [1:07:56, 29.23s/it]\u001b[A\n",
            "139it [1:08:25, 29.21s/it]\u001b[A\n",
            "140it [1:08:55, 29.19s/it]\u001b[A"
          ],
          "name": "stderr"
        },
        {
          "output_type": "stream",
          "text": [
            "Epoch: 1, Loss:  0.10475233197212219\n"
          ],
          "name": "stdout"
        },
        {
          "output_type": "stream",
          "text": [
            "\n",
            "141it [1:09:24, 29.28s/it]\u001b[A\n",
            "142it [1:09:53, 29.32s/it]\u001b[A\n",
            "143it [1:10:19, 29.51s/it]\n"
          ],
          "name": "stderr"
        }
      ]
    }
  ]
}