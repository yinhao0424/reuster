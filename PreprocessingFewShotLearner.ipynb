{
 "cells": [
  {
   "cell_type": "markdown",
   "metadata": {},
   "source": [
    "### Multilabel Classification Training and Testing Data Preperation\n",
    "\n",
    "***\n",
    "This Notebook is to generate training and testing set for **few shot learner**.   \n",
    "\n",
    "For multilabel classification, the final dataframe includes categoties, texts and labels. Topics are grouped based on a category topics mapping generated from the 'cat-mapping.txt' extracted from 'cat-descriptions_120396.txt'.  \n",
    "\n",
    "For few shot learner, the final dataframe is in the 'Commodity' category. In training set, for each topics, I will sample 10 to 50 datapoints.   \n",
    "***\n",
    "- Data Preprocessing\n",
    "- Generate Topics and Categories Mapping\n",
    "- Construct Category and Label\n",
    "- Data Visualization\n",
    "    - category distribution\n",
    "    - topic distribution"
   ]
  },
  {
   "cell_type": "code",
   "execution_count": 8,
   "metadata": {},
   "outputs": [],
   "source": [
    "import numpy as np\n",
    "import pandas as pd\n",
    "\n",
    "import json"
   ]
  },
  {
   "cell_type": "code",
   "execution_count": 6,
   "metadata": {},
   "outputs": [
    {
     "data": {
      "text/html": [
       "<div>\n",
       "<style scoped>\n",
       "    .dataframe tbody tr th:only-of-type {\n",
       "        vertical-align: middle;\n",
       "    }\n",
       "\n",
       "    .dataframe tbody tr th {\n",
       "        vertical-align: top;\n",
       "    }\n",
       "\n",
       "    .dataframe thead th {\n",
       "        text-align: right;\n",
       "    }\n",
       "</style>\n",
       "<table border=\"1\" class=\"dataframe\">\n",
       "  <thead>\n",
       "    <tr style=\"text-align: right;\">\n",
       "      <th></th>\n",
       "      <th>id</th>\n",
       "      <th>topics</th>\n",
       "      <th>texts</th>\n",
       "    </tr>\n",
       "  </thead>\n",
       "  <tbody>\n",
       "    <tr>\n",
       "      <th>0</th>\n",
       "      <td>4005</td>\n",
       "      <td>interest</td>\n",
       "      <td>u.s. economic data key to debt futures outlook...</td>\n",
       "    </tr>\n",
       "    <tr>\n",
       "      <th>1</th>\n",
       "      <td>4005</td>\n",
       "      <td>retail</td>\n",
       "      <td>u.s. economic data key to debt futures outlook...</td>\n",
       "    </tr>\n",
       "    <tr>\n",
       "      <th>2</th>\n",
       "      <td>4005</td>\n",
       "      <td>ipi</td>\n",
       "      <td>u.s. economic data key to debt futures outlook...</td>\n",
       "    </tr>\n",
       "    <tr>\n",
       "      <th>3</th>\n",
       "      <td>4012</td>\n",
       "      <td>earn</td>\n",
       "      <td>bank of british columbia 1st qtr jan 31 netope...</td>\n",
       "    </tr>\n",
       "    <tr>\n",
       "      <th>4</th>\n",
       "      <td>4014</td>\n",
       "      <td>earn</td>\n",
       "      <td>restaurant associates inc &lt;ra&gt; 4th qtr jan 3sh...</td>\n",
       "    </tr>\n",
       "  </tbody>\n",
       "</table>\n",
       "</div>"
      ],
      "text/plain": [
       "     id    topics                                              texts\n",
       "0  4005  interest  u.s. economic data key to debt futures outlook...\n",
       "1  4005    retail  u.s. economic data key to debt futures outlook...\n",
       "2  4005       ipi  u.s. economic data key to debt futures outlook...\n",
       "3  4012      earn  bank of british columbia 1st qtr jan 31 netope...\n",
       "4  4014      earn  restaurant associates inc <ra> 4th qtr jan 3sh..."
      ]
     },
     "execution_count": 6,
     "metadata": {},
     "output_type": "execute_result"
    }
   ],
   "source": [
    "# read data\n",
    "reuters_bert_train = pd.read_csv('result/reuters_final_train.csv')\n",
    "reuters_bert_test = pd.read_csv('result/reuters_final_test.csv')\n",
    "\n",
    "reuters_bert_train.head()"
   ]
  },
  {
   "cell_type": "code",
   "execution_count": 13,
   "metadata": {},
   "outputs": [],
   "source": [
    "## Read mapping data\n",
    "with open('result/category_topic_mapping.json',\"r\") as f:\n",
    "    mapping = json.load(f)\n"
   ]
  },
  {
   "cell_type": "code",
   "execution_count": 19,
   "metadata": {},
   "outputs": [
    {
     "data": {
      "text/plain": [
       "dict_keys(['money-fx', 'ship', 'interest', 'economic_indicator', 'currency', 'commodity', 'energy', 'acq', 'earn'])"
      ]
     },
     "execution_count": 19,
     "metadata": {},
     "output_type": "execute_result"
    }
   ],
   "source": [
    "mapping.keys()"
   ]
  },
  {
   "cell_type": "code",
   "execution_count": 16,
   "metadata": {},
   "outputs": [],
   "source": [
    "def add_single_category(cat_top_map, topic):\n",
    "    for key in cat_top_map:\n",
    "        if topic in cat_top_map[key]:\n",
    "            return key"
   ]
  },
  {
   "cell_type": "code",
   "execution_count": 73,
   "metadata": {},
   "outputs": [],
   "source": [
    "def get_fewshot_data(df,category ='commodity',num=50):\n",
    "    # add category\n",
    "    df['category'] = df['topics'].apply(lambda x: add_single_category(mapping, x))\n",
    "    \n",
    "    # choose specific category and resample\n",
    "    df = df[df['category'] == category].groupby('topics').head(num)\n",
    "    \n",
    "    # topics with one record\n",
    "    temp = df.groupby('topics').count()\n",
    "    topics = temp[temp['id']<10].index.tolist()\n",
    "    \n",
    "    # exclude topics with less then 10 records\n",
    "    df = df[~df['topics'].isin(topics)]\n",
    "    return df[['id','topics','texts']]\n",
    "\n",
    "fewshot_train = get_fewshot_data(reuters_bert_train)\n"
   ]
  },
  {
   "cell_type": "code",
   "execution_count": 74,
   "metadata": {},
   "outputs": [],
   "source": [
    "fewshot_train.to_csv('result/reuster_fewshot_train.csv',index=False)"
   ]
  },
  {
   "cell_type": "code",
   "execution_count": 75,
   "metadata": {},
   "outputs": [
    {
     "name": "stdout",
     "output_type": "stream",
     "text": [
      "The shape of training data is (1143, 3).\n"
     ]
    },
    {
     "data": {
      "text/html": [
       "<div>\n",
       "<style scoped>\n",
       "    .dataframe tbody tr th:only-of-type {\n",
       "        vertical-align: middle;\n",
       "    }\n",
       "\n",
       "    .dataframe tbody tr th {\n",
       "        vertical-align: top;\n",
       "    }\n",
       "\n",
       "    .dataframe thead th {\n",
       "        text-align: right;\n",
       "    }\n",
       "</style>\n",
       "<table border=\"1\" class=\"dataframe\">\n",
       "  <thead>\n",
       "    <tr style=\"text-align: right;\">\n",
       "      <th></th>\n",
       "      <th>id</th>\n",
       "      <th>topics</th>\n",
       "      <th>texts</th>\n",
       "    </tr>\n",
       "  </thead>\n",
       "  <tbody>\n",
       "    <tr>\n",
       "      <th>8</th>\n",
       "      <td>4016</td>\n",
       "      <td>iron-steel</td>\n",
       "      <td>usx &lt;x&gt; proved oil, gas reserves fall in 1986u...</td>\n",
       "    </tr>\n",
       "    <tr>\n",
       "      <th>11</th>\n",
       "      <td>4022</td>\n",
       "      <td>carcass</td>\n",
       "      <td>argentine meat exports higher in jan/feb 1987a...</td>\n",
       "    </tr>\n",
       "    <tr>\n",
       "      <th>12</th>\n",
       "      <td>4022</td>\n",
       "      <td>livestock</td>\n",
       "      <td>argentine meat exports higher in jan/feb 1987a...</td>\n",
       "    </tr>\n",
       "    <tr>\n",
       "      <th>22</th>\n",
       "      <td>4035</td>\n",
       "      <td>veg-oil</td>\n",
       "      <td>british minister criticises proposed ec oils t...</td>\n",
       "    </tr>\n",
       "    <tr>\n",
       "      <th>26</th>\n",
       "      <td>4040</td>\n",
       "      <td>oilseed</td>\n",
       "      <td>china's rapeseed crop damaged by stormsthe yie...</td>\n",
       "    </tr>\n",
       "  </tbody>\n",
       "</table>\n",
       "</div>"
      ],
      "text/plain": [
       "      id      topics                                              texts\n",
       "8   4016  iron-steel  usx <x> proved oil, gas reserves fall in 1986u...\n",
       "11  4022     carcass  argentine meat exports higher in jan/feb 1987a...\n",
       "12  4022   livestock  argentine meat exports higher in jan/feb 1987a...\n",
       "22  4035     veg-oil  british minister criticises proposed ec oils t...\n",
       "26  4040     oilseed  china's rapeseed crop damaged by stormsthe yie..."
      ]
     },
     "execution_count": 75,
     "metadata": {},
     "output_type": "execute_result"
    }
   ],
   "source": [
    "print('The shape of training data is {}.'.format(fewshot_train.shape))\n",
    "fewshot_train.head()"
   ]
  },
  {
   "cell_type": "code",
   "execution_count": null,
   "metadata": {},
   "outputs": [],
   "source": []
  },
  {
   "cell_type": "code",
   "execution_count": 77,
   "metadata": {},
   "outputs": [
    {
     "data": {
      "image/png": "[encoded data removed]",
      "text/plain": [
       "<Figure size 1440x720 with 1 Axes>"
      ]
     },
     "metadata": {},
     "output_type": "display_data"
    }
   ],
   "source": [
    "import seaborn as sns\n",
    "import matplotlib.pyplot as plt\n",
    "\n",
    "# sns.set_theme(style=\"darkgrid\")\n",
    "# titanic = sns.load_dataset(\"commodity\")\n",
    "fig, ax = plt.subplots(figsize=(20, 10))\n",
    "ax = sns.countplot(x=\"topics\", data=fewshot_train)"
   ]
  },
  {
   "cell_type": "code",
   "execution_count": null,
   "metadata": {},
   "outputs": [],
   "source": []
  }
 ],
 "metadata": {
  "kernelspec": {
   "display_name": "Python 3",
   "language": "python",
   "name": "python3"
  },
  "language_info": {
   "codemirror_mode": {
    "name": "ipython",
    "version": 3
   },
   "file_extension": ".py",
   "mimetype": "text/x-python",
   "name": "python",
   "nbconvert_exporter": "python",
   "pygments_lexer": "ipython3",
   "version": "3.7.2"
  }
 },
 "nbformat": 4,
 "nbformat_minor": 2
}
