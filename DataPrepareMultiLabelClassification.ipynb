{
 "cells": [
  {
   "cell_type": "markdown",
   "metadata": {},
   "source": [
    "### Multilabel Classification Training and Testing Data Preperation\n",
    "\n",
    "***\n",
    "This Notebook is to generate training and testing set for multilabel classification problem. The final dataframe includes categoties, texts and labels. Topics are grouped based on a category topics mapping generated from the 'cat-mapping.txt' extracted from 'cat-descriptions_120396.txt'.\n",
    "***\n",
    "- Data Preprocessing\n",
    "- Topics and Categories Mapping Generation\n",
    "- Category and Label Construction"
   ]
  },
  {
   "cell_type": "code",
   "execution_count": 87,
   "metadata": {},
   "outputs": [],
   "source": [
    "import numpy as np\n",
    "import pandas as pd\n",
    "import json\n",
    "\n",
    "import matplotlib.pyplot as plt\n",
    "import seaborn as sns\n",
    "%matplotlib inline\n",
    "\n",
    "import re\n",
    "import nltk"
   ]
  },
  {
   "cell_type": "code",
   "execution_count": 178,
   "metadata": {},
   "outputs": [],
   "source": [
    "# read data\n",
    "reuters_bert_train = pd.read_csv('result/reuters_bert_train.csv')\n",
    "reuters_bert_test = pd.read_csv('result/reuters_bert_test.csv')"
   ]
  },
  {
   "cell_type": "code",
   "execution_count": 180,
   "metadata": {},
   "outputs": [
    {
     "data": {
      "text/plain": [
       "(3299, 3)"
      ]
     },
     "execution_count": 180,
     "metadata": {},
     "output_type": "execute_result"
    }
   ],
   "source": [
    "reuters_bert_test.shape"
   ]
  },
  {
   "cell_type": "code",
   "execution_count": 179,
   "metadata": {},
   "outputs": [
    {
     "data": {
      "text/html": [
       "<div>\n",
       "<style scoped>\n",
       "    .dataframe tbody tr th:only-of-type {\n",
       "        vertical-align: middle;\n",
       "    }\n",
       "\n",
       "    .dataframe tbody tr th {\n",
       "        vertical-align: top;\n",
       "    }\n",
       "\n",
       "    .dataframe thead th {\n",
       "        text-align: right;\n",
       "    }\n",
       "</style>\n",
       "<table border=\"1\" class=\"dataframe\">\n",
       "  <thead>\n",
       "    <tr style=\"text-align: right;\">\n",
       "      <th></th>\n",
       "      <th>id</th>\n",
       "      <th>topics</th>\n",
       "      <th>texts</th>\n",
       "    </tr>\n",
       "  </thead>\n",
       "  <tbody>\n",
       "    <tr>\n",
       "      <th>0</th>\n",
       "      <td>16002</td>\n",
       "      <td>['acq']</td>\n",
       "      <td>hospital corp says it received 47 dlr a share ...</td>\n",
       "    </tr>\n",
       "    <tr>\n",
       "      <th>1</th>\n",
       "      <td>16003</td>\n",
       "      <td>['earn']</td>\n",
       "      <td>beverly enterprises &lt;bev&gt; sets regular dividen...</td>\n",
       "    </tr>\n",
       "    <tr>\n",
       "      <th>2</th>\n",
       "      <td>16004</td>\n",
       "      <td>['money-fx']</td>\n",
       "      <td>treasury's baker says floating exchange rate s...</td>\n",
       "    </tr>\n",
       "    <tr>\n",
       "      <th>3</th>\n",
       "      <td>16005</td>\n",
       "      <td>['crude']</td>\n",
       "      <td>crude oil netbacks up sharply in europe, u.s.c...</td>\n",
       "    </tr>\n",
       "    <tr>\n",
       "      <th>4</th>\n",
       "      <td>16006</td>\n",
       "      <td>['money-fx']</td>\n",
       "      <td>treasury's baker says system needs stabilitytr...</td>\n",
       "    </tr>\n",
       "  </tbody>\n",
       "</table>\n",
       "</div>"
      ],
      "text/plain": [
       "      id        topics                                              texts\n",
       "0  16002       ['acq']  hospital corp says it received 47 dlr a share ...\n",
       "1  16003      ['earn']  beverly enterprises <bev> sets regular dividen...\n",
       "2  16004  ['money-fx']  treasury's baker says floating exchange rate s...\n",
       "3  16005     ['crude']  crude oil netbacks up sharply in europe, u.s.c...\n",
       "4  16006  ['money-fx']  treasury's baker says system needs stabilitytr..."
      ]
     },
     "execution_count": 179,
     "metadata": {},
     "output_type": "execute_result"
    }
   ],
   "source": [
    "reuters_bert_test.head()"
   ]
  },
  {
   "cell_type": "code",
   "execution_count": 170,
   "metadata": {},
   "outputs": [],
   "source": [
    "from ast import literal_eval\n",
    "\n",
    "def data_preprocess(df):\n",
    "    # convert topics to list\n",
    "    df.topics = df.topics.apply(literal_eval)\n",
    "\n",
    "    # remove rows with empty topics\n",
    "    df =df[df['topics'].map(lambda d: len(d)) > 0]\n",
    "\n",
    "    # reset index\n",
    "    df = df.reset_index(drop = True)\n",
    "    \n",
    "    return df\n"
   ]
  },
  {
   "cell_type": "code",
   "execution_count": 171,
   "metadata": {},
   "outputs": [],
   "source": [
    "reuters_bert_train = data_preprocess(reuters_bert_train)\n",
    "reuters_bert_test = data_preprocess(reuters_bert_test)"
   ]
  },
  {
   "cell_type": "markdown",
   "metadata": {},
   "source": [
    "## Mapping Topics to Categories\n",
    "\n",
    "Group 135 topics to 8 categories:  \n",
    "'money-fx', 'ship', 'interest', 'economic_indicator', 'currency', 'corporate', 'commodity', 'energy'"
   ]
  },
  {
   "cell_type": "code",
   "execution_count": 49,
   "metadata": {},
   "outputs": [],
   "source": [
    "def cat_top_mapping(file_path):\n",
    "    mapping = {'money-fx':['money-fx'],'ship':['ship'],'interest':['interest']}\n",
    "    with open(file_path, 'r') as file:\n",
    "        lines = file.readlines()\n",
    "\n",
    "        for line in lines:\n",
    "            line = re.sub(r'\\n', \"\", line)\n",
    "            line = line.strip()\n",
    "            if line != \"\":\n",
    "    #             print(line)\n",
    "                # generate key\n",
    "                if line.startswith('**'):\n",
    "                    category = '_'.join(line[2:].split(' ')[:-2]).lower()\n",
    "                    mapping[category] = []\n",
    "                # generate values\n",
    "                elif '(' in line:\n",
    "                    line = line.split(' ')[-1]\n",
    "                    line = re.sub('[()]', '', line)\n",
    "                    mapping[category].append(line.lower())\n",
    "                else:\n",
    "                    mapping[category].append(line.lower())\n",
    "    return mapping\n"
   ]
  },
  {
   "cell_type": "code",
   "execution_count": 50,
   "metadata": {},
   "outputs": [],
   "source": [
    "file_path = 'reuters21578/cat-mapping.txt'\n",
    "cat_top_map = cat_top_mapping(file_path)"
   ]
  },
  {
   "cell_type": "code",
   "execution_count": 106,
   "metadata": {},
   "outputs": [],
   "source": [
    "cat_top_map['acq'] = 'acq'\n",
    "cat_top_map['earn'] = 'earn'\n",
    "del cat_top_map['corporate']"
   ]
  },
  {
   "cell_type": "code",
   "execution_count": 109,
   "metadata": {},
   "outputs": [
    {
     "data": {
      "text/plain": [
       "dict_keys(['money-fx', 'ship', 'interest', 'economic_indicator', 'currency', 'commodity', 'energy', 'acq', 'earn'])"
      ]
     },
     "execution_count": 109,
     "metadata": {},
     "output_type": "execute_result"
    }
   ],
   "source": [
    "cat_top_map.keys()"
   ]
  },
  {
   "cell_type": "code",
   "execution_count": 110,
   "metadata": {},
   "outputs": [
    {
     "name": "stdout",
     "output_type": "stream",
     "text": [
      "9\n"
     ]
    }
   ],
   "source": [
    "print(len(cat_top_map))"
   ]
  },
  {
   "cell_type": "markdown",
   "metadata": {},
   "source": [
    "## Add category\n",
    "- add categories\n",
    "- encoding categories"
   ]
  },
  {
   "cell_type": "code",
   "execution_count": 125,
   "metadata": {},
   "outputs": [
    {
     "data": {
      "text/html": [
       "<div>\n",
       "<style scoped>\n",
       "    .dataframe tbody tr th:only-of-type {\n",
       "        vertical-align: middle;\n",
       "    }\n",
       "\n",
       "    .dataframe tbody tr th {\n",
       "        vertical-align: top;\n",
       "    }\n",
       "\n",
       "    .dataframe thead th {\n",
       "        text-align: right;\n",
       "    }\n",
       "</style>\n",
       "<table border=\"1\" class=\"dataframe\">\n",
       "  <thead>\n",
       "    <tr style=\"text-align: right;\">\n",
       "      <th></th>\n",
       "      <th>id</th>\n",
       "      <th>topics</th>\n",
       "      <th>texts</th>\n",
       "    </tr>\n",
       "  </thead>\n",
       "  <tbody>\n",
       "    <tr>\n",
       "      <th>2</th>\n",
       "      <td>4005</td>\n",
       "      <td>[interest, retail, ipi]</td>\n",
       "      <td>u.s. economic data key to debt futures outlook...</td>\n",
       "    </tr>\n",
       "    <tr>\n",
       "      <th>6</th>\n",
       "      <td>4012</td>\n",
       "      <td>[earn]</td>\n",
       "      <td>bank of british columbia 1st qtr jan 31 netope...</td>\n",
       "    </tr>\n",
       "    <tr>\n",
       "      <th>7</th>\n",
       "      <td>4014</td>\n",
       "      <td>[earn]</td>\n",
       "      <td>restaurant associates inc &lt;ra&gt; 4th qtr jan 3sh...</td>\n",
       "    </tr>\n",
       "    <tr>\n",
       "      <th>8</th>\n",
       "      <td>4015</td>\n",
       "      <td>[earn]</td>\n",
       "      <td>michigan general corp &lt;mgl&gt; 4th qtrshr loss 1....</td>\n",
       "    </tr>\n",
       "    <tr>\n",
       "      <th>9</th>\n",
       "      <td>4016</td>\n",
       "      <td>[crude, nat-gas, iron-steel]</td>\n",
       "      <td>usx &lt;x&gt; proved oil, gas reserves fall in 1986u...</td>\n",
       "    </tr>\n",
       "  </tbody>\n",
       "</table>\n",
       "</div>"
      ],
      "text/plain": [
       "     id                        topics  \\\n",
       "2  4005       [interest, retail, ipi]   \n",
       "6  4012                        [earn]   \n",
       "7  4014                        [earn]   \n",
       "8  4015                        [earn]   \n",
       "9  4016  [crude, nat-gas, iron-steel]   \n",
       "\n",
       "                                               texts  \n",
       "2  u.s. economic data key to debt futures outlook...  \n",
       "6  bank of british columbia 1st qtr jan 31 netope...  \n",
       "7  restaurant associates inc <ra> 4th qtr jan 3sh...  \n",
       "8  michigan general corp <mgl> 4th qtrshr loss 1....  \n",
       "9  usx <x> proved oil, gas reserves fall in 1986u...  "
      ]
     },
     "execution_count": 125,
     "metadata": {},
     "output_type": "execute_result"
    }
   ],
   "source": [
    "reuters_bert_train.head()"
   ]
  },
  {
   "cell_type": "markdown",
   "metadata": {},
   "source": [
    "Add categories"
   ]
  },
  {
   "cell_type": "code",
   "execution_count": 174,
   "metadata": {},
   "outputs": [],
   "source": [
    "# add category columns\n",
    "def add_category(cat_top_map, topics):\n",
    "    category = set()\n",
    "    for topic in topics:\n",
    "        for key in cat_top_map:\n",
    "            if topic in cat_top_map[key]:\n",
    "                category.add(key) \n",
    "    return list(category)\n",
    "\n",
    "# add categories\n",
    "reuters_bert_train['categories'] = reuters_bert_train['topics'].apply(lambda x: add_category(cat_top_map, x))\n",
    "reuters_bert_test['categories'] = reuters_bert_test['topics'].apply(lambda x: add_category(cat_top_map, x))\n",
    "\n"
   ]
  },
  {
   "cell_type": "markdown",
   "metadata": {},
   "source": [
    "Encoding categories and Add labels"
   ]
  },
  {
   "cell_type": "code",
   "execution_count": 162,
   "metadata": {},
   "outputs": [],
   "source": [
    "def cat_encoding(topics,total_category):\n",
    "    category = [0 for _ in range(9)]\n",
    "    for idx,value in enumerate(total_category):\n",
    "        if value in topics:\n",
    "            category[idx] = 1\n",
    "    return category"
   ]
  },
  {
   "cell_type": "code",
   "execution_count": 175,
   "metadata": {},
   "outputs": [],
   "source": [
    "total_category = list(cat_top_map.keys())\n",
    "reuters_bert_train['labels'] = reuters_bert_train['categories'].apply(lambda x: cat_encoding(x,total_category))\n",
    "reuters_bert_test['labels'] = reuters_bert_test['categories'].apply(lambda x: cat_encoding(x,total_category))\n"
   ]
  },
  {
   "cell_type": "code",
   "execution_count": 176,
   "metadata": {},
   "outputs": [
    {
     "data": {
      "text/html": [
       "<div>\n",
       "<style scoped>\n",
       "    .dataframe tbody tr th:only-of-type {\n",
       "        vertical-align: middle;\n",
       "    }\n",
       "\n",
       "    .dataframe tbody tr th {\n",
       "        vertical-align: top;\n",
       "    }\n",
       "\n",
       "    .dataframe thead th {\n",
       "        text-align: right;\n",
       "    }\n",
       "</style>\n",
       "<table border=\"1\" class=\"dataframe\">\n",
       "  <thead>\n",
       "    <tr style=\"text-align: right;\">\n",
       "      <th></th>\n",
       "      <th>id</th>\n",
       "      <th>topics</th>\n",
       "      <th>texts</th>\n",
       "      <th>categories</th>\n",
       "      <th>labels</th>\n",
       "    </tr>\n",
       "  </thead>\n",
       "  <tbody>\n",
       "    <tr>\n",
       "      <th>0</th>\n",
       "      <td>16002</td>\n",
       "      <td>[acq]</td>\n",
       "      <td>hospital corp says it received 47 dlr a share ...</td>\n",
       "      <td>[acq]</td>\n",
       "      <td>[0, 0, 0, 0, 0, 0, 0, 1, 0]</td>\n",
       "    </tr>\n",
       "    <tr>\n",
       "      <th>1</th>\n",
       "      <td>16003</td>\n",
       "      <td>[earn]</td>\n",
       "      <td>beverly enterprises &lt;bev&gt; sets regular dividen...</td>\n",
       "      <td>[earn]</td>\n",
       "      <td>[0, 0, 0, 0, 0, 0, 0, 0, 1]</td>\n",
       "    </tr>\n",
       "    <tr>\n",
       "      <th>2</th>\n",
       "      <td>16004</td>\n",
       "      <td>[money-fx]</td>\n",
       "      <td>treasury's baker says floating exchange rate s...</td>\n",
       "      <td>[money-fx]</td>\n",
       "      <td>[1, 0, 0, 0, 0, 0, 0, 0, 0]</td>\n",
       "    </tr>\n",
       "    <tr>\n",
       "      <th>3</th>\n",
       "      <td>16005</td>\n",
       "      <td>[crude]</td>\n",
       "      <td>crude oil netbacks up sharply in europe, u.s.c...</td>\n",
       "      <td>[energy]</td>\n",
       "      <td>[0, 0, 0, 0, 0, 0, 1, 0, 0]</td>\n",
       "    </tr>\n",
       "    <tr>\n",
       "      <th>4</th>\n",
       "      <td>16006</td>\n",
       "      <td>[money-fx]</td>\n",
       "      <td>treasury's baker says system needs stabilitytr...</td>\n",
       "      <td>[money-fx]</td>\n",
       "      <td>[1, 0, 0, 0, 0, 0, 0, 0, 0]</td>\n",
       "    </tr>\n",
       "  </tbody>\n",
       "</table>\n",
       "</div>"
      ],
      "text/plain": [
       "      id      topics                                              texts  \\\n",
       "0  16002       [acq]  hospital corp says it received 47 dlr a share ...   \n",
       "1  16003      [earn]  beverly enterprises <bev> sets regular dividen...   \n",
       "2  16004  [money-fx]  treasury's baker says floating exchange rate s...   \n",
       "3  16005     [crude]  crude oil netbacks up sharply in europe, u.s.c...   \n",
       "4  16006  [money-fx]  treasury's baker says system needs stabilitytr...   \n",
       "\n",
       "   categories                       labels  \n",
       "0       [acq]  [0, 0, 0, 0, 0, 0, 0, 1, 0]  \n",
       "1      [earn]  [0, 0, 0, 0, 0, 0, 0, 0, 1]  \n",
       "2  [money-fx]  [1, 0, 0, 0, 0, 0, 0, 0, 0]  \n",
       "3    [energy]  [0, 0, 0, 0, 0, 0, 1, 0, 0]  \n",
       "4  [money-fx]  [1, 0, 0, 0, 0, 0, 0, 0, 0]  "
      ]
     },
     "execution_count": 176,
     "metadata": {},
     "output_type": "execute_result"
    }
   ],
   "source": [
    "reuters_bert_test.head()"
   ]
  },
  {
   "cell_type": "code",
   "execution_count": 167,
   "metadata": {},
   "outputs": [],
   "source": [
    "reuters_bert_train.to_csv('result/reuters_multilabel_train.csv')\n",
    "reuters_bert_test.to_csv('result/reuters_multilabel_test.csv')"
   ]
  },
  {
   "cell_type": "code",
   "execution_count": 177,
   "metadata": {},
   "outputs": [],
   "source": []
  },
  {
   "cell_type": "code",
   "execution_count": null,
   "metadata": {},
   "outputs": [],
   "source": []
  },
  {
   "cell_type": "code",
   "execution_count": null,
   "metadata": {},
   "outputs": [],
   "source": []
  },
  {
   "cell_type": "code",
   "execution_count": 128,
   "metadata": {},
   "outputs": [
    {
     "data": {
      "text/plain": [
       "count    7775.000000\n",
       "mean        1.076013\n",
       "std         0.284239\n",
       "min         1.000000\n",
       "25%         1.000000\n",
       "50%         1.000000\n",
       "75%         1.000000\n",
       "max         4.000000\n",
       "Name: categories, dtype: float64"
      ]
     },
     "execution_count": 128,
     "metadata": {},
     "output_type": "execute_result"
    }
   ],
   "source": [
    "topics_size = reuters_bert_train['categories'].apply(lambda x: len(x))\n",
    "topics_size.describe()"
   ]
  },
  {
   "cell_type": "code",
   "execution_count": 139,
   "metadata": {},
   "outputs": [],
   "source": [
    "# unique number of categories\n",
    "res = set()\n",
    "for category in list(reuters_bert_train['categories']):\n",
    "    for i in category:\n",
    "        res.add(i)\n",
    "        "
   ]
  },
  {
   "cell_type": "code",
   "execution_count": 142,
   "metadata": {},
   "outputs": [
    {
     "data": {
      "text/plain": [
       "['money-fx',\n",
       " 'ship',\n",
       " 'commodity',\n",
       " 'currency',\n",
       " 'energy',\n",
       " 'interest',\n",
       " 'earn',\n",
       " 'economic_indicator',\n",
       " 'acq']"
      ]
     },
     "execution_count": 142,
     "metadata": {},
     "output_type": "execute_result"
    }
   ],
   "source": [
    "list(res)"
   ]
  },
  {
   "cell_type": "code",
   "execution_count": 160,
   "metadata": {},
   "outputs": [],
   "source": [
    "a = ['economic_indicator', 'interest']\n"
   ]
  },
  {
   "cell_type": "code",
   "execution_count": 161,
   "metadata": {},
   "outputs": [
    {
     "data": {
      "text/plain": [
       "[0, 0, 1, 1, 0, 0, 0, 0, 0]"
      ]
     },
     "execution_count": 161,
     "metadata": {},
     "output_type": "execute_result"
    }
   ],
   "source": [
    "total_cat = list(cat_top_map.keys())\n",
    "cat_encoding(a,total_cat)"
   ]
  },
  {
   "cell_type": "code",
   "execution_count": null,
   "metadata": {},
   "outputs": [],
   "source": []
  }
 ],
 "metadata": {
  "kernelspec": {
   "display_name": "Python 3",
   "language": "python",
   "name": "python3"
  },
  "language_info": {
   "codemirror_mode": {
    "name": "ipython",
    "version": 3
   },
   "file_extension": ".py",
   "mimetype": "text/x-python",
   "name": "python",
   "nbconvert_exporter": "python",
   "pygments_lexer": "ipython3",
   "version": "3.7.2"
  }
 },
 "nbformat": 4,
 "nbformat_minor": 2
}
